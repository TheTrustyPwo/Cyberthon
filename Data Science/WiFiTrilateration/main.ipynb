{
 "cells": [
  {
   "metadata": {},
   "cell_type": "markdown",
   "source": [
    "**WiFi Trilateration**\n",
    "\n",
    "**Problem Statement**\n",
    "\n",
    "We cannot imagine the world today without Global Navigation Satellite Systems (GNSS) systems like GPS, GLONASS, Galileo, NavIC. Except! when the view of the sky is obstructed\n",
    "\n",
    "Indoor localisation is essential in our built-up environment, yet this technology has not caught up. Many attempts using ISM radio signals to localise indoors have had only moderate success. You may have heard of iBeacon or seen Google Assistant giving you suspiciously specific location notifications.\n",
    "\n",
    "In this activity, you will attempt to localise within a controlled area using RSSI signals from nearby Access Points (AP) without the precise location of either the AP or the mobile phone.\n",
    "\n",
    "Attached Files\n",
    "[WiFiLocation.package.tar.xz](https://api.t.cyberthon24.ctf.sg/file?id=clu5qrt5m0eji080668p1zh9x&name=WiFiLocation.package.tar.xz)"
   ],
   "id": "4489fbeb7888d92f"
  },
  {
   "metadata": {},
   "cell_type": "markdown",
   "source": [
    "**Solution**\n",
    "\n",
    "We can do some simple regression to solve this challange"
   ],
   "id": "527aba9afcdc4da"
  },
  {
   "metadata": {},
   "cell_type": "markdown",
   "source": [
    "You need to put WiFiLocation.tar.xz into a folder <br>\n",
    "Mount Google Drive"
   ],
   "id": "40876ad53da46870"
  },
  {
   "cell_type": "code",
   "execution_count": null,
   "id": "initial_id",
   "metadata": {
    "collapsed": true
   },
   "outputs": [],
   "source": [
    "from google.colab import drive\n",
    "drive.mount('/content/drive')"
   ]
  },
  {
   "metadata": {},
   "cell_type": "code",
   "outputs": [],
   "execution_count": null,
   "source": "!tar -xf /content/drive/MyDrive/Cyberthon/OutofPerspective.tar.xz",
   "id": "4c9b78eb7e8835f6"
  },
  {
   "metadata": {},
   "cell_type": "markdown",
   "source": "Import necessary libraries",
   "id": "2076b8d9288ea296"
  },
  {
   "metadata": {},
   "cell_type": "code",
   "outputs": [],
   "execution_count": null,
   "source": [
    "import pandas as pd\n",
    "import numpy as np\n",
    "import matplotlib.pyplot as plt"
   ],
   "id": "146dd9175baf8ffe"
  },
  {
   "metadata": {},
   "cell_type": "markdown",
   "source": "Read from the wifi_train.json file",
   "id": "4c2fd37208c0a0ba"
  },
  {
   "metadata": {},
   "cell_type": "code",
   "outputs": [],
   "execution_count": null,
   "source": "df0 = pd.read_json(\"package/wifi_train.json\")",
   "id": "ee78c0ad58b91632"
  },
  {
   "metadata": {},
   "cell_type": "markdown",
   "source": [
    "Create a list of all the access points names as well as their signals <br>\n",
    "If an access point has multiple signals, we take the average "
   ],
   "id": "eb8655046a8f853e"
  },
  {
   "metadata": {},
   "cell_type": "code",
   "outputs": [],
   "execution_count": null,
   "source": [
    "ap_list = []\n",
    "ap_names = set()\n",
    "for i in df0:\n",
    "  ap = {'x': df0[i]['location']['x'], 'y': df0[i]['location']['y']}\n",
    "  for j in df0[i]['data'].keys():\n",
    "    ap_names.add(j)\n",
    "    ap[j] = np.mean(df0[i]['data'][j])\n",
    "  ap_list.append(ap)"
   ],
   "id": "c519bc38c99f040c"
  },
  {
   "metadata": {},
   "cell_type": "markdown",
   "source": [
    "We create the X train and Y train lists.\n",
    "\n",
    "X train will consist of a list of every access points possible in the entire training dataset, even if they do not show up in that iteration\n",
    "\n",
    "Y train will consist of the corresponding (x, y) of the mobile device"
   ],
   "id": "97530b6c1c32b828"
  },
  {
   "metadata": {},
   "cell_type": "code",
   "outputs": [],
   "execution_count": null,
   "source": [
    "stuff = {elem: 0 for elem in ap_names}\n",
    "shuce = []\n",
    "Y = []\n",
    "X = []\n",
    "for i in ap_list:\n",
    "  temp = stuff.copy()\n",
    "  for j, k in i.items():\n",
    "    if not (j=='x'or j=='y'):\n",
    "      temp[str(j)] = k\n",
    "  Y.append([i['x'], i['y']])\n",
    "  shuce.append(temp)\n",
    "for i in shuce:\n",
    "  X.append(list(i.values()))"
   ],
   "id": "a781442fe16028d5"
  },
  {
   "metadata": {},
   "cell_type": "markdown",
   "source": "Train the Random Forest Regression",
   "id": "e99d20493b1b6c3b"
  },
  {
   "metadata": {},
   "cell_type": "code",
   "outputs": [],
   "execution_count": null,
   "source": [
    "from sklearn.ensemble import RandomForestRegressor\n",
    "\n",
    "x = np.array(X)\n",
    "y = np.array(Y)\n",
    "\n",
    "model = RandomForestRegressor()\n",
    "\n",
    "model.fit(x, y)"
   ],
   "id": "1a077b5757e040a2"
  },
  {
   "metadata": {},
   "cell_type": "markdown",
   "source": "Read from wifi_test.json",
   "id": "5cc650d262f2b2fe"
  },
  {
   "metadata": {},
   "cell_type": "code",
   "outputs": [],
   "execution_count": null,
   "source": [
    "df1 = pd.read_json(\"package/wifi_test.json\")\n",
    "ap_list2 = []\n",
    "\n",
    "for i in df1:\n",
    "  ap = {}\n",
    "  for j in df1[i]['data'].keys():\n",
    "    if j in ap_names:\n",
    "      ap[j] = np.mean(df1[i]['data'][j])\n",
    "  ap_list2.append(ap)"
   ],
   "id": "6cfb03cb26aab610"
  },
  {
   "metadata": {},
   "cell_type": "markdown",
   "source": "Prepocess wifi_test.csv to put into the model",
   "id": "2d5f4a401ed67608"
  },
  {
   "metadata": {},
   "cell_type": "code",
   "outputs": [],
   "execution_count": null,
   "source": [
    "stuff2 = {elem: 0 for elem in ap_names}\n",
    "shuce2 = []\n",
    "X2 = []\n",
    "for i in ap_list2:\n",
    "  temp = stuff2.copy()\n",
    "  for j, k in i.items():\n",
    "    if not (j=='x'or j=='y'):\n",
    "      temp[str(j)] = k\n",
    "  shuce2.append(temp)\n",
    "for i in shuce2:\n",
    "  X2.append(list(i.values()))\n",
    "print(X2[0])"
   ],
   "id": "c28e3b9f81e94c7f"
  },
  {
   "metadata": {},
   "cell_type": "markdown",
   "source": "Plug all the values from test.csv into the model",
   "id": "47180b95e5d20116"
  },
  {
   "metadata": {},
   "cell_type": "code",
   "outputs": [],
   "execution_count": null,
   "source": [
    "outputX = []\n",
    "outputY = []\n",
    "for i in X2:\n",
    "  out = model.predict([i])[0]\n",
    "  outputX.append(out[0])\n",
    "  outputY.append(out[1])"
   ],
   "id": "8bf001fab864d493"
  },
  {
   "metadata": {},
   "cell_type": "markdown",
   "source": "Lastly, write outputs into submission.csv",
   "id": "91c14b274f4efa91"
  },
  {
   "metadata": {},
   "cell_type": "code",
   "outputs": [],
   "execution_count": null,
   "source": [
    "df2 = pd.read_csv('package/submission.csv')\n",
    "for i, row in df2.iterrows():\n",
    "    df2['locationX'] = outputX\n",
    "    df2['locationY'] = outputY\n",
    "\n",
    "df2.to_csv('package/submission.csv', index=False)"
   ],
   "id": "ab26f9d9d0ec3d82"
  }
 ],
 "metadata": {
  "kernelspec": {
   "display_name": "Python 3",
   "language": "python",
   "name": "python3"
  },
  "language_info": {
   "codemirror_mode": {
    "name": "ipython",
    "version": 2
   },
   "file_extension": ".py",
   "mimetype": "text/x-python",
   "name": "python",
   "nbconvert_exporter": "python",
   "pygments_lexer": "ipython2",
   "version": "2.7.6"
  }
 },
 "nbformat": 4,
 "nbformat_minor": 5
}
