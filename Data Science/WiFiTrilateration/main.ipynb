{
 "cells": [
  {
   "metadata": {},
   "cell_type": "markdown",
   "source": [
    "**WiFi Trilateration**\n",
    "\n",
    "**Problem Statement**\n",
    "\n",
    "We cannot imagine the world today without Global Navigation Satellite Systems (GNSS) systems like GPS, GLONASS, Galileo, NavIC. Except! when the view of the sky is obstructed\n",
    "\n",
    "Indoor localisation is essential in our built-up environment, yet this technology has not caught up. Many attempts using ISM radio signals to localise indoors have had only moderate success. You may have heard of iBeacon or seen Google Assistant giving you suspiciously specific location notifications.\n",
    "\n",
    "In this activity, you will attempt to localise within a controlled area using RSSI signals from nearby Access Points (AP) without the precise location of either the AP or the mobile phone.\n",
    "\n",
    "Attached Files\n",
    "[WiFiLocation.package.tar.xz](https://api.t.cyberthon24.ctf.sg/file?id=clu5qrt5m0eji080668p1zh9x&name=WiFiLocation.package.tar.xz)"
   ],
   "id": "4489fbeb7888d92f"
  },
  {
   "metadata": {},
   "cell_type": "markdown",
   "source": [
    "**Solution**\n",
    "\n",
    "We can do some simple regression to solve this challange"
   ],
   "id": "527aba9afcdc4da"
  },
  {
   "metadata": {},
   "cell_type": "markdown",
   "source": [
    "You need to put WiFiLocation.tar.xz into a folder <br>\n",
    "Mount Google Drive"
   ],
   "id": "40876ad53da46870"
  },
  {
   "cell_type": "code",
   "execution_count": null,
   "id": "initial_id",
   "metadata": {
    "collapsed": true
   },
   "outputs": [],
   "source": [
    "from google.colab import drive\n",
    "drive.mount('/content/drive')"
   ]
  },
  {
   "metadata": {
    "ExecuteTime": {
     "end_time": "2025-04-06T02:46:02.182879Z",
     "start_time": "2025-04-06T02:46:02.089343Z"
    }
   },
   "cell_type": "code",
   "outputs": [],
   "execution_count": 1,
   "source": [
    "!tar -xf WifiLocation.package.tar.xz"
   ],
   "id": "4c9b78eb7e8835f6"
  },
  {
   "metadata": {},
   "cell_type": "markdown",
   "source": [
    "Import necessary libraries"
   ],
   "id": "2076b8d9288ea296"
  },
  {
   "metadata": {
    "ExecuteTime": {
     "end_time": "2025-04-06T02:46:08.298611Z",
     "start_time": "2025-04-06T02:46:07.425579Z"
    }
   },
   "cell_type": "code",
   "outputs": [],
   "execution_count": 2,
   "source": [
    "import pandas as pd\n",
    "import numpy as np\n",
    "import matplotlib.pyplot as plt"
   ],
   "id": "146dd9175baf8ffe"
  },
  {
   "metadata": {},
   "cell_type": "markdown",
   "source": [
    "Read from the wifi_train.json file"
   ],
   "id": "4c2fd37208c0a0ba"
  },
  {
   "metadata": {
    "ExecuteTime": {
     "end_time": "2025-04-06T02:46:08.453656Z",
     "start_time": "2025-04-06T02:46:08.299611Z"
    }
   },
   "cell_type": "code",
   "outputs": [],
   "execution_count": 3,
   "source": [
    "df0 = pd.read_json(\"package/wifi_train.json\")"
   ],
   "id": "ee78c0ad58b91632"
  },
  {
   "metadata": {},
   "cell_type": "markdown",
   "source": [
    "Create a list of all the access points names as well as their signals <br>\n",
    "If an access point has multiple signals, we take the average "
   ],
   "id": "eb8655046a8f853e"
  },
  {
   "metadata": {
    "ExecuteTime": {
     "end_time": "2025-04-06T02:46:10.272577Z",
     "start_time": "2025-04-06T02:46:09.263532Z"
    }
   },
   "cell_type": "code",
   "outputs": [],
   "execution_count": 4,
   "source": [
    "ap_list = []\n",
    "ap_names = set()\n",
    "for i in df0:\n",
    "  ap = {'x': df0[i]['location']['x'], 'y': df0[i]['location']['y']}\n",
    "  for j in df0[i]['data'].keys():\n",
    "    ap_names.add(j)\n",
    "    ap[j] = np.mean(df0[i]['data'][j])\n",
    "  ap_list.append(ap)"
   ],
   "id": "c519bc38c99f040c"
  },
  {
   "metadata": {},
   "cell_type": "markdown",
   "source": [
    "We create the X train and Y train lists.\n",
    "\n",
    "X train will consist of a list of every access points possible in the entire training dataset, even if they do not show up in that iteration\n",
    "\n",
    "Y train will consist of the corresponding (x, y) of the mobile device"
   ],
   "id": "97530b6c1c32b828"
  },
  {
   "metadata": {
    "ExecuteTime": {
     "end_time": "2025-04-06T02:46:11.111759Z",
     "start_time": "2025-04-06T02:46:11.013775Z"
    }
   },
   "cell_type": "code",
   "outputs": [],
   "execution_count": 5,
   "source": [
    "stuff = {elem: 0 for elem in ap_names}\n",
    "shuce = []\n",
    "Y = []\n",
    "X = []\n",
    "for i in ap_list:\n",
    "  temp = stuff.copy()\n",
    "  for j, k in i.items():\n",
    "    if not (j=='x'or j=='y'):\n",
    "      temp[str(j)] = k\n",
    "  Y.append([i['x'], i['y']])\n",
    "  shuce.append(temp)\n",
    "for i in shuce:\n",
    "  X.append(list(i.values()))"
   ],
   "id": "a781442fe16028d5"
  },
  {
   "metadata": {},
   "cell_type": "markdown",
   "source": [
    "Train the Random Forest Regression"
   ],
   "id": "e99d20493b1b6c3b"
  },
  {
   "metadata": {
    "ExecuteTime": {
     "end_time": "2025-04-06T02:46:17.169603Z",
     "start_time": "2025-04-06T02:46:12.264647Z"
    }
   },
   "cell_type": "code",
   "outputs": [
    {
     "data": {
      "text/plain": "RandomForestRegressor()",
      "text/html": "<style>#sk-container-id-1 {\n  /* Definition of color scheme common for light and dark mode */\n  --sklearn-color-text: #000;\n  --sklearn-color-text-muted: #666;\n  --sklearn-color-line: gray;\n  /* Definition of color scheme for unfitted estimators */\n  --sklearn-color-unfitted-level-0: #fff5e6;\n  --sklearn-color-unfitted-level-1: #f6e4d2;\n  --sklearn-color-unfitted-level-2: #ffe0b3;\n  --sklearn-color-unfitted-level-3: chocolate;\n  /* Definition of color scheme for fitted estimators */\n  --sklearn-color-fitted-level-0: #f0f8ff;\n  --sklearn-color-fitted-level-1: #d4ebff;\n  --sklearn-color-fitted-level-2: #b3dbfd;\n  --sklearn-color-fitted-level-3: cornflowerblue;\n\n  /* Specific color for light theme */\n  --sklearn-color-text-on-default-background: var(--sg-text-color, var(--theme-code-foreground, var(--jp-content-font-color1, black)));\n  --sklearn-color-background: var(--sg-background-color, var(--theme-background, var(--jp-layout-color0, white)));\n  --sklearn-color-border-box: var(--sg-text-color, var(--theme-code-foreground, var(--jp-content-font-color1, black)));\n  --sklearn-color-icon: #696969;\n\n  @media (prefers-color-scheme: dark) {\n    /* Redefinition of color scheme for dark theme */\n    --sklearn-color-text-on-default-background: var(--sg-text-color, var(--theme-code-foreground, var(--jp-content-font-color1, white)));\n    --sklearn-color-background: var(--sg-background-color, var(--theme-background, var(--jp-layout-color0, #111)));\n    --sklearn-color-border-box: var(--sg-text-color, var(--theme-code-foreground, var(--jp-content-font-color1, white)));\n    --sklearn-color-icon: #878787;\n  }\n}\n\n#sk-container-id-1 {\n  color: var(--sklearn-color-text);\n}\n\n#sk-container-id-1 pre {\n  padding: 0;\n}\n\n#sk-container-id-1 input.sk-hidden--visually {\n  border: 0;\n  clip: rect(1px 1px 1px 1px);\n  clip: rect(1px, 1px, 1px, 1px);\n  height: 1px;\n  margin: -1px;\n  overflow: hidden;\n  padding: 0;\n  position: absolute;\n  width: 1px;\n}\n\n#sk-container-id-1 div.sk-dashed-wrapped {\n  border: 1px dashed var(--sklearn-color-line);\n  margin: 0 0.4em 0.5em 0.4em;\n  box-sizing: border-box;\n  padding-bottom: 0.4em;\n  background-color: var(--sklearn-color-background);\n}\n\n#sk-container-id-1 div.sk-container {\n  /* jupyter's `normalize.less` sets `[hidden] { display: none; }`\n     but bootstrap.min.css set `[hidden] { display: none !important; }`\n     so we also need the `!important` here to be able to override the\n     default hidden behavior on the sphinx rendered scikit-learn.org.\n     See: https://github.com/scikit-learn/scikit-learn/issues/21755 */\n  display: inline-block !important;\n  position: relative;\n}\n\n#sk-container-id-1 div.sk-text-repr-fallback {\n  display: none;\n}\n\ndiv.sk-parallel-item,\ndiv.sk-serial,\ndiv.sk-item {\n  /* draw centered vertical line to link estimators */\n  background-image: linear-gradient(var(--sklearn-color-text-on-default-background), var(--sklearn-color-text-on-default-background));\n  background-size: 2px 100%;\n  background-repeat: no-repeat;\n  background-position: center center;\n}\n\n/* Parallel-specific style estimator block */\n\n#sk-container-id-1 div.sk-parallel-item::after {\n  content: \"\";\n  width: 100%;\n  border-bottom: 2px solid var(--sklearn-color-text-on-default-background);\n  flex-grow: 1;\n}\n\n#sk-container-id-1 div.sk-parallel {\n  display: flex;\n  align-items: stretch;\n  justify-content: center;\n  background-color: var(--sklearn-color-background);\n  position: relative;\n}\n\n#sk-container-id-1 div.sk-parallel-item {\n  display: flex;\n  flex-direction: column;\n}\n\n#sk-container-id-1 div.sk-parallel-item:first-child::after {\n  align-self: flex-end;\n  width: 50%;\n}\n\n#sk-container-id-1 div.sk-parallel-item:last-child::after {\n  align-self: flex-start;\n  width: 50%;\n}\n\n#sk-container-id-1 div.sk-parallel-item:only-child::after {\n  width: 0;\n}\n\n/* Serial-specific style estimator block */\n\n#sk-container-id-1 div.sk-serial {\n  display: flex;\n  flex-direction: column;\n  align-items: center;\n  background-color: var(--sklearn-color-background);\n  padding-right: 1em;\n  padding-left: 1em;\n}\n\n\n/* Toggleable style: style used for estimator/Pipeline/ColumnTransformer box that is\nclickable and can be expanded/collapsed.\n- Pipeline and ColumnTransformer use this feature and define the default style\n- Estimators will overwrite some part of the style using the `sk-estimator` class\n*/\n\n/* Pipeline and ColumnTransformer style (default) */\n\n#sk-container-id-1 div.sk-toggleable {\n  /* Default theme specific background. It is overwritten whether we have a\n  specific estimator or a Pipeline/ColumnTransformer */\n  background-color: var(--sklearn-color-background);\n}\n\n/* Toggleable label */\n#sk-container-id-1 label.sk-toggleable__label {\n  cursor: pointer;\n  display: flex;\n  width: 100%;\n  margin-bottom: 0;\n  padding: 0.5em;\n  box-sizing: border-box;\n  text-align: center;\n  align-items: start;\n  justify-content: space-between;\n  gap: 0.5em;\n}\n\n#sk-container-id-1 label.sk-toggleable__label .caption {\n  font-size: 0.6rem;\n  font-weight: lighter;\n  color: var(--sklearn-color-text-muted);\n}\n\n#sk-container-id-1 label.sk-toggleable__label-arrow:before {\n  /* Arrow on the left of the label */\n  content: \"▸\";\n  float: left;\n  margin-right: 0.25em;\n  color: var(--sklearn-color-icon);\n}\n\n#sk-container-id-1 label.sk-toggleable__label-arrow:hover:before {\n  color: var(--sklearn-color-text);\n}\n\n/* Toggleable content - dropdown */\n\n#sk-container-id-1 div.sk-toggleable__content {\n  max-height: 0;\n  max-width: 0;\n  overflow: hidden;\n  text-align: left;\n  /* unfitted */\n  background-color: var(--sklearn-color-unfitted-level-0);\n}\n\n#sk-container-id-1 div.sk-toggleable__content.fitted {\n  /* fitted */\n  background-color: var(--sklearn-color-fitted-level-0);\n}\n\n#sk-container-id-1 div.sk-toggleable__content pre {\n  margin: 0.2em;\n  border-radius: 0.25em;\n  color: var(--sklearn-color-text);\n  /* unfitted */\n  background-color: var(--sklearn-color-unfitted-level-0);\n}\n\n#sk-container-id-1 div.sk-toggleable__content.fitted pre {\n  /* unfitted */\n  background-color: var(--sklearn-color-fitted-level-0);\n}\n\n#sk-container-id-1 input.sk-toggleable__control:checked~div.sk-toggleable__content {\n  /* Expand drop-down */\n  max-height: 200px;\n  max-width: 100%;\n  overflow: auto;\n}\n\n#sk-container-id-1 input.sk-toggleable__control:checked~label.sk-toggleable__label-arrow:before {\n  content: \"▾\";\n}\n\n/* Pipeline/ColumnTransformer-specific style */\n\n#sk-container-id-1 div.sk-label input.sk-toggleable__control:checked~label.sk-toggleable__label {\n  color: var(--sklearn-color-text);\n  background-color: var(--sklearn-color-unfitted-level-2);\n}\n\n#sk-container-id-1 div.sk-label.fitted input.sk-toggleable__control:checked~label.sk-toggleable__label {\n  background-color: var(--sklearn-color-fitted-level-2);\n}\n\n/* Estimator-specific style */\n\n/* Colorize estimator box */\n#sk-container-id-1 div.sk-estimator input.sk-toggleable__control:checked~label.sk-toggleable__label {\n  /* unfitted */\n  background-color: var(--sklearn-color-unfitted-level-2);\n}\n\n#sk-container-id-1 div.sk-estimator.fitted input.sk-toggleable__control:checked~label.sk-toggleable__label {\n  /* fitted */\n  background-color: var(--sklearn-color-fitted-level-2);\n}\n\n#sk-container-id-1 div.sk-label label.sk-toggleable__label,\n#sk-container-id-1 div.sk-label label {\n  /* The background is the default theme color */\n  color: var(--sklearn-color-text-on-default-background);\n}\n\n/* On hover, darken the color of the background */\n#sk-container-id-1 div.sk-label:hover label.sk-toggleable__label {\n  color: var(--sklearn-color-text);\n  background-color: var(--sklearn-color-unfitted-level-2);\n}\n\n/* Label box, darken color on hover, fitted */\n#sk-container-id-1 div.sk-label.fitted:hover label.sk-toggleable__label.fitted {\n  color: var(--sklearn-color-text);\n  background-color: var(--sklearn-color-fitted-level-2);\n}\n\n/* Estimator label */\n\n#sk-container-id-1 div.sk-label label {\n  font-family: monospace;\n  font-weight: bold;\n  display: inline-block;\n  line-height: 1.2em;\n}\n\n#sk-container-id-1 div.sk-label-container {\n  text-align: center;\n}\n\n/* Estimator-specific */\n#sk-container-id-1 div.sk-estimator {\n  font-family: monospace;\n  border: 1px dotted var(--sklearn-color-border-box);\n  border-radius: 0.25em;\n  box-sizing: border-box;\n  margin-bottom: 0.5em;\n  /* unfitted */\n  background-color: var(--sklearn-color-unfitted-level-0);\n}\n\n#sk-container-id-1 div.sk-estimator.fitted {\n  /* fitted */\n  background-color: var(--sklearn-color-fitted-level-0);\n}\n\n/* on hover */\n#sk-container-id-1 div.sk-estimator:hover {\n  /* unfitted */\n  background-color: var(--sklearn-color-unfitted-level-2);\n}\n\n#sk-container-id-1 div.sk-estimator.fitted:hover {\n  /* fitted */\n  background-color: var(--sklearn-color-fitted-level-2);\n}\n\n/* Specification for estimator info (e.g. \"i\" and \"?\") */\n\n/* Common style for \"i\" and \"?\" */\n\n.sk-estimator-doc-link,\na:link.sk-estimator-doc-link,\na:visited.sk-estimator-doc-link {\n  float: right;\n  font-size: smaller;\n  line-height: 1em;\n  font-family: monospace;\n  background-color: var(--sklearn-color-background);\n  border-radius: 1em;\n  height: 1em;\n  width: 1em;\n  text-decoration: none !important;\n  margin-left: 0.5em;\n  text-align: center;\n  /* unfitted */\n  border: var(--sklearn-color-unfitted-level-1) 1pt solid;\n  color: var(--sklearn-color-unfitted-level-1);\n}\n\n.sk-estimator-doc-link.fitted,\na:link.sk-estimator-doc-link.fitted,\na:visited.sk-estimator-doc-link.fitted {\n  /* fitted */\n  border: var(--sklearn-color-fitted-level-1) 1pt solid;\n  color: var(--sklearn-color-fitted-level-1);\n}\n\n/* On hover */\ndiv.sk-estimator:hover .sk-estimator-doc-link:hover,\n.sk-estimator-doc-link:hover,\ndiv.sk-label-container:hover .sk-estimator-doc-link:hover,\n.sk-estimator-doc-link:hover {\n  /* unfitted */\n  background-color: var(--sklearn-color-unfitted-level-3);\n  color: var(--sklearn-color-background);\n  text-decoration: none;\n}\n\ndiv.sk-estimator.fitted:hover .sk-estimator-doc-link.fitted:hover,\n.sk-estimator-doc-link.fitted:hover,\ndiv.sk-label-container:hover .sk-estimator-doc-link.fitted:hover,\n.sk-estimator-doc-link.fitted:hover {\n  /* fitted */\n  background-color: var(--sklearn-color-fitted-level-3);\n  color: var(--sklearn-color-background);\n  text-decoration: none;\n}\n\n/* Span, style for the box shown on hovering the info icon */\n.sk-estimator-doc-link span {\n  display: none;\n  z-index: 9999;\n  position: relative;\n  font-weight: normal;\n  right: .2ex;\n  padding: .5ex;\n  margin: .5ex;\n  width: min-content;\n  min-width: 20ex;\n  max-width: 50ex;\n  color: var(--sklearn-color-text);\n  box-shadow: 2pt 2pt 4pt #999;\n  /* unfitted */\n  background: var(--sklearn-color-unfitted-level-0);\n  border: .5pt solid var(--sklearn-color-unfitted-level-3);\n}\n\n.sk-estimator-doc-link.fitted span {\n  /* fitted */\n  background: var(--sklearn-color-fitted-level-0);\n  border: var(--sklearn-color-fitted-level-3);\n}\n\n.sk-estimator-doc-link:hover span {\n  display: block;\n}\n\n/* \"?\"-specific style due to the `<a>` HTML tag */\n\n#sk-container-id-1 a.estimator_doc_link {\n  float: right;\n  font-size: 1rem;\n  line-height: 1em;\n  font-family: monospace;\n  background-color: var(--sklearn-color-background);\n  border-radius: 1rem;\n  height: 1rem;\n  width: 1rem;\n  text-decoration: none;\n  /* unfitted */\n  color: var(--sklearn-color-unfitted-level-1);\n  border: var(--sklearn-color-unfitted-level-1) 1pt solid;\n}\n\n#sk-container-id-1 a.estimator_doc_link.fitted {\n  /* fitted */\n  border: var(--sklearn-color-fitted-level-1) 1pt solid;\n  color: var(--sklearn-color-fitted-level-1);\n}\n\n/* On hover */\n#sk-container-id-1 a.estimator_doc_link:hover {\n  /* unfitted */\n  background-color: var(--sklearn-color-unfitted-level-3);\n  color: var(--sklearn-color-background);\n  text-decoration: none;\n}\n\n#sk-container-id-1 a.estimator_doc_link.fitted:hover {\n  /* fitted */\n  background-color: var(--sklearn-color-fitted-level-3);\n}\n</style><div id=\"sk-container-id-1\" class=\"sk-top-container\"><div class=\"sk-text-repr-fallback\"><pre>RandomForestRegressor()</pre><b>In a Jupyter environment, please rerun this cell to show the HTML representation or trust the notebook. <br />On GitHub, the HTML representation is unable to render, please try loading this page with nbviewer.org.</b></div><div class=\"sk-container\" hidden><div class=\"sk-item\"><div class=\"sk-estimator fitted sk-toggleable\"><input class=\"sk-toggleable__control sk-hidden--visually\" id=\"sk-estimator-id-1\" type=\"checkbox\" checked><label for=\"sk-estimator-id-1\" class=\"sk-toggleable__label fitted sk-toggleable__label-arrow\"><div><div>RandomForestRegressor</div></div><div><a class=\"sk-estimator-doc-link fitted\" rel=\"noreferrer\" target=\"_blank\" href=\"https://scikit-learn.org/1.6/modules/generated/sklearn.ensemble.RandomForestRegressor.html\">?<span>Documentation for RandomForestRegressor</span></a><span class=\"sk-estimator-doc-link fitted\">i<span>Fitted</span></span></div></label><div class=\"sk-toggleable__content fitted\"><pre>RandomForestRegressor()</pre></div> </div></div></div></div>"
     },
     "execution_count": 6,
     "metadata": {},
     "output_type": "execute_result"
    }
   ],
   "execution_count": 6,
   "source": [
    "from sklearn.ensemble import RandomForestRegressor\n",
    "\n",
    "x = np.array(X)\n",
    "y = np.array(Y)\n",
    "\n",
    "model = RandomForestRegressor()\n",
    "\n",
    "model.fit(x, y)"
   ],
   "id": "1a077b5757e040a2"
  },
  {
   "metadata": {},
   "cell_type": "markdown",
   "source": [
    "Read from wifi_test.json"
   ],
   "id": "5cc650d262f2b2fe"
  },
  {
   "metadata": {
    "ExecuteTime": {
     "end_time": "2025-04-06T02:46:17.651606Z",
     "start_time": "2025-04-06T02:46:17.170604Z"
    }
   },
   "cell_type": "code",
   "outputs": [],
   "execution_count": 7,
   "source": [
    "df1 = pd.read_json(\"package/wifi_test.json\")\n",
    "ap_list2 = []\n",
    "\n",
    "for i in df1:\n",
    "  ap = {}\n",
    "  for j in df1[i]['data'].keys():\n",
    "    if j in ap_names:\n",
    "      ap[j] = np.mean(df1[i]['data'][j])\n",
    "  ap_list2.append(ap)"
   ],
   "id": "6cfb03cb26aab610"
  },
  {
   "metadata": {},
   "cell_type": "markdown",
   "source": [
    "Prepocess wifi_test.csv to put into the model"
   ],
   "id": "2d5f4a401ed67608"
  },
  {
   "metadata": {
    "ExecuteTime": {
     "end_time": "2025-04-06T02:46:18.375930Z",
     "start_time": "2025-04-06T02:46:18.350386Z"
    }
   },
   "cell_type": "code",
   "outputs": [
    {
     "name": "stdout",
     "output_type": "stream",
     "text": [
      "[-89.0, 0, -89.0, 0, 0, 0, 0, 0, 0, 0, 0, 0, 0, 0, -90.0, 0, -83.0, 0, 0, 0, -85.0, 0, 0, -86.5, -84.5, 0, -81.8, -86.0, -86.25, 0, 0, 0, -92.0, 0, 0, 0, 0, -93.0, 0, 0, 0, 0, 0, 0, -89.0, 0, 0, -78.5, 0, 0, 0, 0, 0, 0, -69.0, 0, 0, -85.0, -85.0, -92.0, 0, 0, -69.4, 0, 0, 0, 0, -82.0, -85.33333333333333, 0, -87.0, 0, -89.0, 0, -90.0, 0, 0, 0, 0, 0, 0, 0, 0, 0, 0, 0, -72.75, 0, 0, 0, 0, -87.0, 0, 0, 0, 0, 0, 0, -86.0, -93.0, 0, 0, 0, -86.75, -67.75, 0, -72.8, -93.0, 0, -85.0, 0, 0, 0, 0, 0, -92.0, 0, 0, 0, 0, 0, 0, -71.66666666666667, 0, 0, -84.66666666666667, 0, 0, -78.25, 0, 0, 0, 0, 0, 0, 0, -92.0, 0, 0, -92.5, 0, 0, 0, 0, 0, -83.0, -92.0, 0, 0, -86.0, 0, 0, -89.5, -71.25, 0, 0, 0, 0, 0, -93.0, -90.0, -86.5, 0, -77.66666666666667, 0, 0, 0, 0, 0, 0, -89.0, -89.0, 0, -90.0, 0, -67.0, 0, 0, -69.66666666666667, 0, -86.0, 0, 0, 0, -80.0, 0, 0, -77.75, -88.8, 0, 0, 0, 0, -85.5, 0, -84.5, 0, 0, 0, 0, 0, 0, 0, 0, 0, 0, 0, -94.0, 0, 0, 0, -89.0, -93.0, -92.0, -94.0, 0, 0, 0, -72.8, 0, 0, 0, 0, 0, 0, -72.5, 0, 0, 0, 0, -87.0, 0, 0, 0, 0, -67.0, 0, 0, 0, 0, 0, 0, 0, 0, 0, 0, -74.25, -88.0, -78.0, -82.4, -84.75, 0, 0, -89.0, 0, 0, 0, -76.0, 0, 0, -88.0, 0, 0, 0, 0, 0, -84.4, 0, 0, 0, 0, -76.0, 0, -90.33333333333333, 0, 0, 0, 0, 0, -89.0, 0, 0, -91.0, 0, 0, 0, -85.0, 0, 0, 0, -78.0, 0, -83.0, 0, 0, 0, 0, 0, 0, 0, -82.0, -86.0, 0, 0, 0, 0, 0, 0, 0, 0, 0, 0, -73.0, 0, 0, 0, 0, 0, -77.5, -82.33333333333333, 0, 0, -73.25, 0, -85.5, 0, 0, 0, 0, 0, 0, 0, 0, -92.0, 0, 0, 0, -86.75, -92.0, 0, 0, -71.6, 0, 0, 0, 0, 0, 0, 0, 0, 0, 0, 0, 0, 0, -89.0, 0, -61.2, 0, 0, -78.5, 0, 0, -81.25, 0, 0, 0, -81.0, 0, 0, 0, 0, 0, 0, -88.0, -76.8, -91.0, 0, -86.75, 0, 0, 0, -65.25, 0, 0, 0, 0, 0, -83.0, 0, 0, 0, -72.6, 0, 0, -87.0, 0, 0, -71.75, 0, 0, 0, 0, 0, 0, 0, 0, 0, 0, -87.0, 0, 0, -78.0, 0, 0, 0, 0, 0, 0, 0, -81.5, -82.0, -78.2, 0, 0, -66.6, 0, 0, 0, 0, -69.0, 0, 0, 0, 0, 0, 0, -92.0, 0, 0, 0, 0, 0, 0, -91.0, 0, 0, -78.5, 0, 0, 0, 0, 0, 0, 0, 0, 0, 0, 0, 0, -74.25, -89.0, 0, -85.25, -92.0, 0, 0, 0, -91.0, 0, 0, 0, 0, -81.75, 0, 0, -67.0, 0, 0, 0, 0, 0, 0, 0, 0, -89.0, 0, 0, 0, 0, 0, 0, 0, 0, 0, 0, 0, 0, 0, 0, 0, 0, 0, 0, 0, 0, 0, 0, 0, 0, 0, 0, 0, 0, -83.0, 0, 0, 0, 0, 0, 0, 0, 0, 0, -86.66666666666667, 0, -89.75, 0, 0, 0, 0, 0, 0, 0, 0, -88.0, 0, 0, 0, -88.0, 0, -85.0, -91.0, 0, 0, 0, -84.5, 0, 0, -85.2, 0, 0, 0, -77.0, 0, 0, 0, 0, 0, 0, 0, 0, 0, 0, 0, -87.33333333333333, 0, 0, 0, 0, 0, 0, 0, 0, -86.0, -87.0, 0, -84.2, 0, -73.66666666666667, 0, 0, -92.0, 0, 0, 0, 0, 0, -81.0, 0, 0, -78.5, 0, 0, -78.0, 0, 0, 0, -89.66666666666667, 0, 0, 0, -60.8, 0, -72.5, 0, -73.25, 0, 0, -66.25, 0, 0, 0, 0, -73.0, 0, -68.8, -87.0, 0, 0, 0, 0, -72.2, 0, 0, 0, 0, -76.0, 0, -85.33333333333333, 0, 0, -81.75, 0, 0, 0, -73.66666666666667, -90.5, -84.66666666666667, 0, 0, 0, 0, 0, 0, 0, 0, -72.5, 0, 0, 0, 0, 0, 0, 0, 0, 0, -71.0, 0, 0, -92.0, 0, 0, 0, 0, -89.0, 0, 0, 0, 0, 0, 0, 0, -61.4, -68.8, 0, 0, 0, 0, 0, 0, 0, 0, 0, 0, -88.33333333333333, 0, -84.0, -61.2, -92.0, 0, 0, -84.6, 0, 0, 0, -85.0, 0, 0, -72.8, 0, 0, 0, 0, 0, 0, 0, -85.0, 0, 0, 0, 0, 0, 0, -80.0, 0, -86.0, -76.0, 0, -91.0, 0, 0, 0, 0, 0, 0, 0, 0, 0, 0, 0, 0, 0, -92.0, 0, 0, 0, 0, 0, -82.0, 0, 0, 0, 0, 0, -81.75, 0, -89.33333333333333, 0, -68.25, 0, 0, 0, 0, 0, 0, 0, 0, 0, 0, -93.0, 0, 0, 0, -77.0, -71.6, 0, -72.75, 0, 0, 0, 0, -72.25, 0, -90.33333333333333, 0, -74.5, -75.33333333333333, 0, 0, 0, -83.0, 0, 0, 0, -87.33333333333333, 0, -89.0, 0, 0, 0, 0, 0, 0, -77.0, 0, 0, -72.75, -88.0, 0, 0, 0, 0, 0, 0, 0, -79.0, 0, 0, 0, 0, -73.66666666666667, 0, 0, -77.4, -91.0, 0, 0, 0, 0, -86.66666666666667, 0, 0, 0, 0, -85.0, -90.0, 0, 0, -88.5, 0, 0, -79.0, 0, 0, -79.25, 0, 0, -91.0, 0, -91.0, 0, -84.4, -85.25, 0, 0, 0, 0, 0, 0, 0, 0, -78.0, 0, 0, 0, -92.0, 0, 0, 0, 0, -85.5, 0, 0, -80.0, -84.5, 0, -92.0, 0, 0, 0, 0, 0, -86.0, 0, 0, 0, 0, 0, 0, 0, 0, 0, -84.0, 0, 0, -85.0, 0, 0, 0, 0, -66.25, 0, 0, -66.25, -93.0, 0, -69.0, 0, 0, -81.25, 0, 0, 0, 0, -69.0, 0, 0, 0, 0, 0, -90.0, 0, 0, 0, 0, 0, 0, 0, 0, 0, 0, 0, 0, 0, -82.0, 0, 0, 0, 0, -84.0, 0, -69.66666666666667, 0, 0, -84.6, 0, 0, 0, 0, -85.0, 0, 0, 0, 0, 0, 0, 0, 0, 0, -92.0, 0, 0, -84.66666666666667, -69.6, -87.5, -83.66666666666667, 0, 0, 0, -88.0, 0, -92.0, 0, 0, -86.0, -85.66666666666667, 0, 0, -81.0, 0, 0, 0, 0, 0, -77.0, -84.75, 0, 0, 0, -83.5, 0, 0, 0, 0, 0, 0, 0, 0, 0, 0, 0, 0, 0, 0, -76.25, -90.5, 0, -84.5, -92.0, 0, 0, 0, 0, 0, 0, 0, -92.0, 0, 0, 0, -89.0, 0, -85.0, 0, -72.8, 0, -90.5, 0, 0, 0, 0, 0, -92.0, 0, -71.5, 0, -78.5, 0, 0, -73.2, -85.33333333333333, 0, -76.0, -83.0, -91.0, 0, 0, 0, 0, 0, 0, 0, 0, -84.0, -87.0, 0, 0, 0, -82.0, 0, 0, 0, 0, 0, 0, 0, 0, 0, 0, 0, 0, 0, 0, -79.0, 0, -91.5, 0, 0, 0, 0, 0, -66.4, 0, -85.0, 0, -92.0, 0, -91.0, 0, 0, 0, 0, 0, 0, 0, -77.5, 0, -70.0, -84.8, 0, 0, 0, -84.0, 0, 0, 0, -67.4, 0, 0, -90.0, 0, 0, -79.0, 0, -60.8, 0, 0, 0, 0, 0, -86.0, 0, 0, 0, 0, 0, 0, -89.0, 0, 0, 0, 0, 0, 0, 0, 0, -89.0, 0, 0, 0, 0, 0, 0, -91.0, -85.5, 0, 0, 0, 0, 0, 0, 0, 0, 0, 0, 0, -81.66666666666667, 0, 0, 0, 0, 0, 0, -89.5, 0, -91.5, 0, 0, 0, 0, 0, -79.0, 0, 0, -68.5, 0, 0, 0, 0, -88.0, 0, 0, 0, 0, 0, 0, -90.0, 0, 0, 0, 0, 0, -92.0, 0, 0, -84.66666666666667, 0, -87.0, 0, 0, 0, 0, 0, 0, -65.5, 0, -86.0, 0, -88.0, 0, 0, 0, 0, -72.5, 0, 0, 0, 0, -86.5, -73.0, 0, 0, -75.66666666666667, 0, -67.0, 0, 0, -87.0, 0, 0, 0, 0, -88.25, 0, 0, 0, 0, 0, 0, 0, 0, 0, -87.66666666666667, -88.0, 0, -92.0, 0, 0, -90.0, 0, 0, 0, 0, 0, 0, 0, -74.0, -88.0, -77.0, 0, -87.0]\n"
     ]
    }
   ],
   "execution_count": 8,
   "source": [
    "stuff2 = {elem: 0 for elem in ap_names}\n",
    "shuce2 = []\n",
    "X2 = []\n",
    "for i in ap_list2:\n",
    "  temp = stuff2.copy()\n",
    "  for j, k in i.items():\n",
    "    if not (j=='x'or j=='y'):\n",
    "      temp[str(j)] = k\n",
    "  shuce2.append(temp)\n",
    "for i in shuce2:\n",
    "  X2.append(list(i.values()))\n",
    "print(X2[0])"
   ],
   "id": "c28e3b9f81e94c7f"
  },
  {
   "metadata": {},
   "cell_type": "markdown",
   "source": [
    "Plug all the values from test.csv into the model"
   ],
   "id": "47180b95e5d20116"
  },
  {
   "metadata": {
    "ExecuteTime": {
     "end_time": "2025-04-06T02:46:19.648707Z",
     "start_time": "2025-04-06T02:46:19.315650Z"
    }
   },
   "cell_type": "code",
   "outputs": [],
   "execution_count": 9,
   "source": [
    "outputX = []\n",
    "outputY = []\n",
    "for i in X2:\n",
    "  out = model.predict([i])[0]\n",
    "  outputX.append(out[0])\n",
    "  outputY.append(out[1])"
   ],
   "id": "8bf001fab864d493"
  },
  {
   "metadata": {},
   "cell_type": "markdown",
   "source": [
    "Lastly, write outputs into submission.csv"
   ],
   "id": "91c14b274f4efa91"
  },
  {
   "metadata": {
    "ExecuteTime": {
     "end_time": "2025-04-06T02:46:20.475869Z",
     "start_time": "2025-04-06T02:46:20.449836Z"
    }
   },
   "cell_type": "code",
   "outputs": [],
   "execution_count": 10,
   "source": [
    "df2 = pd.read_csv('package/submission.csv')\n",
    "for i, row in df2.iterrows():\n",
    "    df2['locationX'] = outputX\n",
    "    df2['locationY'] = outputY\n",
    "\n",
    "df2.to_csv('package/submission.csv', index=False)"
   ],
   "id": "ab26f9d9d0ec3d82"
  },
  {
   "metadata": {},
   "cell_type": "markdown",
   "source": [
    "This yields an accuracy of **99%** which is pretty good but not the best. Idk how some people get **100%**"
   ],
   "id": "90accabca636c1af"
  }
 ],
 "metadata": {
  "kernelspec": {
   "display_name": "Python 3",
   "language": "python",
   "name": "python3"
  },
  "language_info": {
   "codemirror_mode": {
    "name": "ipython",
    "version": 2
   },
   "file_extension": ".py",
   "mimetype": "text/x-python",
   "name": "python",
   "nbconvert_exporter": "python",
   "pygments_lexer": "ipython2",
   "version": "2.7.6"
  }
 },
 "nbformat": 4,
 "nbformat_minor": 5
}
