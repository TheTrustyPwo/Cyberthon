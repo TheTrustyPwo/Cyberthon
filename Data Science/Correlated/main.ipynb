{
 "cells": [
  {
   "metadata": {},
   "cell_type": "markdown",
   "source": [
    "**Objects In 3D**\n",
    "\n",
    "**Problem Statement**\n",
    "\n",
    "In this activity, you will use CV to detect the points in the plots and then calculate the correlation ( range: [-1,1] )  between the X and Y positions of the points.\n",
    "\n",
    "Attached Files\n",
    "[CorrCV.package.tar.xz](https://api.t.cyberthon24.ctf.sg/file?id=clu5pv0wj0d2u0806jxncy6tf&name=CorrCV.package.tar.xz)"
   ],
   "id": "f0139810fdcc066"
  },
  {
   "metadata": {},
   "cell_type": "markdown",
   "source": [
    "**Solution**\n",
    "\n",
    "We are going to use cv2 to find points on the image and use scipy to calculate the correlation\n",
    "\n",
    "The code below are to be used for colab\n"
   ],
   "id": "f2149306c33e09e0"
  },
  {
   "metadata": {},
   "cell_type": "markdown",
   "source": [
    "You need to put CorrCV.package.tar.xz into a folder <br>\n",
    "Mount Google Drive"
   ],
   "id": "fc8bbd0e7b405fba"
  },
  {
   "cell_type": "code",
   "execution_count": null,
   "id": "initial_id",
   "metadata": {
    "collapsed": true
   },
   "outputs": [],
   "source": [
    "from google.colab import drive\n",
    "drive.mount('/content/drive')"
   ]
  },
  {
   "metadata": {},
   "cell_type": "code",
   "outputs": [],
   "execution_count": null,
   "source": "!tar -xf /content/drive/MyDrive/Cyberthon_stuff/CorrCV.package.tar.xz",
   "id": "aec5787f307379c4"
  },
  {
   "metadata": {},
   "cell_type": "markdown",
   "source": "Import necessary libraries",
   "id": "e402d6f3c96bfe92"
  },
  {
   "metadata": {},
   "cell_type": "code",
   "outputs": [],
   "execution_count": null,
   "source": [
    "import cv2\n",
    "import numpy as np\n",
    "import matplotlib.pyplot as plt\n",
    "import scipy.stats\n",
    "import pandas as pd"
   ],
   "id": "4a692324f9ba4965"
  },
  {
   "metadata": {},
   "cell_type": "markdown",
   "source": [
    "This function reads from the image and find all the points on that image <br>\n",
    "It thens use scipy to calculate the correlation of all the points"
   ],
   "id": "615d7c72c15001bb"
  },
  {
   "metadata": {},
   "cell_type": "code",
   "outputs": [],
   "execution_count": null,
   "source": [
    "def process_image(image_path):\n",
    "    image = cv2.imread(image_path)\n",
    "    gray = cv2.cvtColor(image, cv2.COLOR_BGR2GRAY)\n",
    "    _, binary = cv2.threshold(gray, 0, 255, cv2.THRESH_BINARY_INV + cv2.THRESH_OTSU)\n",
    "    contours, _ = cv2.findContours(binary, cv2.RETR_EXTERNAL, cv2.CHAIN_APPROX_SIMPLE)\n",
    "    min_area = 10\n",
    "    contours = [cnt for cnt in contours if cv2.contourArea(cnt) > min_area]\n",
    "    points = []\n",
    "    for cnt in contours:\n",
    "        M = cv2.moments(cnt)\n",
    "        if M[\"m00\"] != 0:\n",
    "            cX = int(M[\"m10\"] / M[\"m00\"])\n",
    "            cY = int(M[\"m01\"] / M[\"m00\"])\n",
    "            cY = image.shape[0] - cY\n",
    "            points.append((cX, cY))\n",
    "\n",
    "    points = np.array(points)\n",
    "    x = points[:, 0]\n",
    "    y = points[:, 1]\n",
    "\n",
    "    correlation = scipy.stats.pearsonr(x, y)[0]\n",
    "    return correlation"
   ],
   "id": "1742527ec08d927"
  },
  {
   "metadata": {},
   "cell_type": "markdown",
   "source": [
    "Loads all 1000 test files and find their correlation <br>\n",
    "Lastly, write outputs to submission.csv"
   ],
   "id": "b22f4ab5c3aa0b7c"
  },
  {
   "metadata": {},
   "cell_type": "code",
   "outputs": [],
   "execution_count": null,
   "source": [
    "out = []\n",
    "for i in range(1000):\n",
    "  image_path = f\"test/{i}.jpg\"\n",
    "  out.append(process_image(image_path))\n",
    "print(out[0], out[1])\n",
    "df = pd.read_csv(\"submission.csv\")\n",
    "df[\"correlation\"] = out\n",
    "df.to_csv(\"submission.csv\", index=False)"
   ],
   "id": "6dc0962fe66744ed"
  },
  {
   "metadata": {},
   "cell_type": "markdown",
   "source": "This yields an accuracy of around **97%** which is pretty good but no the highest possible",
   "id": "ce912ca1ebcdfa8a"
  }
 ],
 "metadata": {
  "kernelspec": {
   "display_name": "Python 3",
   "language": "python",
   "name": "python3"
  },
  "language_info": {
   "codemirror_mode": {
    "name": "ipython",
    "version": 2
   },
   "file_extension": ".py",
   "mimetype": "text/x-python",
   "name": "python",
   "nbconvert_exporter": "python",
   "pygments_lexer": "ipython2",
   "version": "2.7.6"
  }
 },
 "nbformat": 4,
 "nbformat_minor": 5
}
