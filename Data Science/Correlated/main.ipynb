{
 "cells": [
  {
   "metadata": {},
   "cell_type": "markdown",
   "source": [
    "# Correlated\n",
    "\n",
    "## Problem Statement\n",
    "\n",
    "In this activity, you will use CV to detect the points in the plots and then calculate the correlation ( range: [-1,1] )  between the X and Y positions of the points.\n",
    "\n",
    "Attached Files\n",
    "[CorrCV.package.tar.xz](https://api.t.cyberthon24.ctf.sg/file?id=clu5pv0wj0d2u0806jxncy6tf&name=CorrCV.package.tar.xz)"
   ],
   "id": "f0139810fdcc066"
  },
  {
   "metadata": {},
   "cell_type": "markdown",
   "source": [
    "## Solution\n",
    "\n",
    "We are going to use cv2 to find points on the image and use scipy to calculate the correlation\n"
   ],
   "id": "f2149306c33e09e0"
  },
  {
   "metadata": {},
   "cell_type": "markdown",
   "source": [
    "You have to upload CorrCV.package.tar.xz to Google Drive and mount it\n",
    "The code below are to be used on Google Colab"
   ],
   "id": "fc8bbd0e7b405fba"
  },
  {
   "cell_type": "code",
   "execution_count": null,
   "id": "initial_id",
   "metadata": {
    "collapsed": true
   },
   "outputs": [],
   "source": [
    "from google.colab import drive\n",
    "drive.mount('/content/drive')"
   ]
  },
  {
   "metadata": {},
   "cell_type": "code",
   "outputs": [],
   "execution_count": null,
   "source": [
    "!tar -xf /content/drive/MyDrive/Cyberthon_stuff/CorrCV.package.tar.xz"
   ],
   "id": "aec5787f307379c4"
  },
  {
   "metadata": {},
   "cell_type": "code",
   "outputs": [],
   "execution_count": null,
   "source": [
    "import cv2\n",
    "import numpy as np\n",
    "import scipy.stats\n",
    "from sklearn.metrics import mean_squared_error\n",
    "import pandas as pd"
   ],
   "id": "4a692324f9ba4965"
  },
  {
   "metadata": {},
   "cell_type": "markdown",
   "source": [
    "This function reads the image using OpenCV, converts it to grayscale, and applies a binary thresholding technique to isolate regions of interest. Then, it finds contours in the binary image and calculates the centroids of these contours. It filters out small contours and extracts their centroids as points. These points are then used to calculate the correlation between the x and y coordinates of the centroids using Pearson correlation coefficient.\n",
    "\n",
    "Note: All of the points are the same size (Area of 28.0), which allows us to check if there are multiple points clumped together and make the necessary adjustments"
   ],
   "id": "615d7c72c15001bb"
  },
  {
   "cell_type": "code",
   "outputs": [],
   "source": [
    "def process_image(image_path):\n",
    "    image = cv2.imread(image_path)\n",
    "    gray = cv2.cvtColor(image, cv2.COLOR_BGR2GRAY)\n",
    "    _, binary = cv2.threshold(gray, 0, 255, cv2.THRESH_BINARY_INV + cv2.THRESH_OTSU)\n",
    "    contours, _ = cv2.findContours(binary, cv2.RETR_LIST, cv2.CHAIN_APPROX_SIMPLE)\n",
    "\n",
    "    points = []\n",
    "    for cnt in contours:\n",
    "        if cv2.contourArea(cnt) < 28.0:\n",
    "            continue\n",
    "            \n",
    "        M = cv2.moments(cnt)\n",
    "        if M[\"m00\"] != 0:\n",
    "            cX = int(M[\"m10\"] / M[\"m00\"])\n",
    "            cY = int(M[\"m01\"] / M[\"m00\"])\n",
    "            cY = image.shape[0] - cY\n",
    "            for _ in range(round(cv2.contourArea(cnt) / 28)):\n",
    "                points.append((cX, cY))\n",
    "\n",
    "    points = np.array(points)\n",
    "    x = points[:, 0]\n",
    "    y = points[:, 1]\n",
    "\n",
    "    correlation = scipy.stats.pearsonr(x, y)[0]\n",
    "    return correlation"
   ],
   "metadata": {
    "collapsed": false
   },
   "id": "43f30c2548d5d6bb"
  },
  {
   "cell_type": "code",
   "outputs": [],
   "source": [
    "df = pd.read_csv(\"./train.csv\")\n",
    "df['calculated'] = df['image'].map(lambda x: process_image(f'./train/{x}.jpg'))\n",
    "mse = mean_squared_error(df['calculated'], df['correlation'])\n",
    "print(f'Mean Squared Error: {mse}')\n",
    "df.head()"
   ],
   "metadata": {
    "collapsed": false
   },
   "id": "936e7af5a2545fea",
   "execution_count": null
  },
  {
   "metadata": {},
   "cell_type": "markdown",
   "source": [
    "Lastly, run the algorithm on the submission dataset and writes to `submission.csv`"
   ],
   "id": "b22f4ab5c3aa0b7c"
  },
  {
   "metadata": {},
   "cell_type": "code",
   "outputs": [],
   "execution_count": null,
   "source": [
    "df = pd.read_csv(\"submission.csv\")\n",
    "df['correlation'] = df['image'].map(lambda x: process_image(f'./test/{x}.jpg'))\n",
    "df.to_csv(\"submission.csv\", index=False)\n",
    "df.head()"
   ],
   "id": "6dc0962fe66744ed"
  },
  {
   "metadata": {},
   "cell_type": "markdown",
   "source": [
    "This yields a score of **99.67**, which obtains full marks for the problem."
   ],
   "id": "ce912ca1ebcdfa8a"
  }
 ],
 "metadata": {
  "kernelspec": {
   "display_name": "Python 3",
   "language": "python",
   "name": "python3"
  },
  "language_info": {
   "codemirror_mode": {
    "name": "ipython",
    "version": 2
   },
   "file_extension": ".py",
   "mimetype": "text/x-python",
   "name": "python",
   "nbconvert_exporter": "python",
   "pygments_lexer": "ipython2",
   "version": "2.7.6"
  }
 },
 "nbformat": 4,
 "nbformat_minor": 5
}
