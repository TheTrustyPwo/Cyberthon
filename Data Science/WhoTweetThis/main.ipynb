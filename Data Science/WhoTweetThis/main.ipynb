{
 "cells": [
  {
   "metadata": {},
   "cell_type": "markdown",
   "source": [
    "**Who Tweet This?**\n",
    "\n",
    "**Problem Statement**\n",
    "\n",
    "Lets use the text classification model from the data science training to classify some tweets data!\n",
    "\n",
    "Use your model to make predictions for tweets in test.csv and fill up submission.csv (replace the \"???\" with your predictions) then upload it to the grader.\n",
    "\n",
    "Attached Files\n",
    "[tweet2.package.tar.xz](https://api.t.cyberthon24.ctf.sg/file?id=clu5oehft0abq0806nu9yee5z&name=tweet2.package.tar.xz)"
   ],
   "id": "b1f329320c107596"
  },
  {
   "metadata": {},
   "cell_type": "markdown",
   "source": [
    "**Solution**\n",
    "\n",
    "We can find the dataset where this problem originate from on [this github link](https://github.com/memeghaj10/Trump_Or_Trudeau-)\n",
    "\n",
    "We can get loop through the test.csv file and for each status, loop through the author and their status from the original dataset. If they match, append the author to the output.  \n",
    "\n",
    "Lastly, write the output to submission.csv"
   ],
   "id": "48e90d466249566b"
  },
  {
   "metadata": {},
   "cell_type": "code",
   "outputs": [],
   "execution_count": null,
   "source": [
    "import pandas as pd\n",
    "test_x = []\n",
    "pred = []\n",
    "df = pd.read_csv(\"test.csv\")\n",
    "\n",
    "for index, row in df.iterrows():\n",
    "    status = row['status']\n",
    "    test_x.append(status)\n",
    "\n",
    "for i in test_x:\n",
    "  df2 = pd.read_csv(\"tweets.csv\")\n",
    "  hmm = \"\"\n",
    "  for a, b in zip(df2['author'], df2['status']):\n",
    "    # this removes any wierd characters that may be in test.csv\n",
    "    if (i.replace(\"â€™\", \"\")) in b:\n",
    "      hmm = a\n",
    "  pred.append(hmm)\n",
    "\n",
    "df1 = pd.read_csv(\"submission.csv\")\n",
    "df1[\"author\"]=pred\n",
    "df1.to_csv(\"submission.csv\",index=False)"
   ],
   "id": "ef0c640ab1d26cc2"
  },
  {
   "metadata": {},
   "cell_type": "markdown",
   "source": "This allows us to yield an accuracy of **100%** which is the highest possible",
   "id": "b421081ca2b5e4fe"
  }
 ],
 "metadata": {
  "kernelspec": {
   "display_name": "Python 3",
   "language": "python",
   "name": "python3"
  },
  "language_info": {
   "codemirror_mode": {
    "name": "ipython",
    "version": 2
   },
   "file_extension": ".py",
   "mimetype": "text/x-python",
   "name": "python",
   "nbconvert_exporter": "python",
   "pygments_lexer": "ipython2",
   "version": "2.7.6"
  }
 },
 "nbformat": 4,
 "nbformat_minor": 5
}
