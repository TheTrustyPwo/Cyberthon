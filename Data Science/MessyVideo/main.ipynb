{
 "cells": [
  {
   "cell_type": "code",
   "execution_count": 6,
   "id": "initial_id",
   "metadata": {
    "collapsed": true,
    "ExecuteTime": {
     "end_time": "2025-04-06T06:31:57.003313Z",
     "start_time": "2025-04-06T06:31:56.991290Z"
    }
   },
   "outputs": [],
   "source": [
    "import os\n",
    "import glob\n",
    "from PIL import Image\n",
    "import imagehash\n",
    "import numpy as np\n",
    "import cv2\n",
    "from tqdm import tqdm"
   ]
  },
  {
   "cell_type": "code",
   "outputs": [],
   "source": [
    "paths = sorted(glob.glob(os.path.join('ext', '*.png')))\n",
    "pil_imgs = [Image.open(p) for p in paths]"
   ],
   "metadata": {
    "collapsed": false,
    "ExecuteTime": {
     "end_time": "2025-04-06T07:55:47.564116Z",
     "start_time": "2025-04-06T07:55:46.803268Z"
    }
   },
   "id": "8f4e69d37001b166",
   "execution_count": 46
  },
  {
   "cell_type": "code",
   "outputs": [],
   "source": [
    "hashes = [imagehash.phash(img, hash_size=16) for img in pil_imgs]"
   ],
   "metadata": {
    "collapsed": false,
    "ExecuteTime": {
     "end_time": "2025-04-06T07:56:01.634765Z",
     "start_time": "2025-04-06T07:55:47.564116Z"
    }
   },
   "id": "2659d86cdaf91352",
   "execution_count": 47
  },
  {
   "cell_type": "code",
   "outputs": [],
   "source": [
    "# --- LOAD ALL FRAMES ---\n",
    "folder = 'ext'\n",
    "paths = sorted(glob.glob(os.path.join(folder, '*.png')))\n",
    "imgs = [cv2.imread(p) for p in paths]\n",
    "N = len(imgs)"
   ],
   "metadata": {
    "collapsed": false,
    "ExecuteTime": {
     "end_time": "2025-04-06T08:04:53.443564Z",
     "start_time": "2025-04-06T08:04:42.292747Z"
    }
   },
   "id": "c619f661661a7166",
   "execution_count": 51
  },
  {
   "cell_type": "code",
   "outputs": [
    {
     "name": "stdout",
     "output_type": "stream",
     "text": [
      "Copied 123 sorted text‑frames into 'sorted'.\n"
     ]
    }
   ],
   "source": [
    "import os\n",
    "import glob\n",
    "import cv2\n",
    "import numpy as np\n",
    "import shutil\n",
    "\n",
    "# Configuration\n",
    "SRC_FOLDER      = 'ext'        # your input folder\n",
    "DST_FOLDER      = 'sorted'   # where to copy sorted frames\n",
    "TOP_FRAC        = 1.0                    # fraction of height for sky crop\n",
    "WHITE_THRESH    = 253                    # V-channel threshold for “white”\n",
    "MIN_AREA_FRAC   = 0.003                  # min fraction of crop area to count as text\n",
    "\n",
    "os.makedirs(DST_FOLDER, exist_ok=True)\n",
    "\n",
    "def detect_white_text(img):\n",
    "    \"\"\"Return True if img’s top region has a large white overlay.\"\"\"\n",
    "    h, w = img.shape[:2]\n",
    "    hsv  = cv2.cvtColor(img, cv2.COLOR_BGR2HSV)\n",
    "    v    = hsv[:,:,2]\n",
    "    mask = (v >= WHITE_THRESH).astype(np.uint8)\n",
    "    return (mask.sum() / mask.size) >= MIN_AREA_FRAC\n",
    "\n",
    "BAND_FRAC       = 0.2     # top 40% of the image\n",
    "MASK_MID_FRAC   = 0.6     # mask out the central 50% of width\n",
    "\n",
    "# Percentile range to average\n",
    "PCT_MIN         = 80      # e.g. 80th percentile\n",
    "PCT_MAX         = 90      # e.g. 99th percentile\n",
    "NUM_PCTS        = 20      # number of percentiles between min and max\n",
    "\n",
    "# Sky‑color HSV ranges (OpenCV H:0–179, S:0–255, V:0–255)\n",
    "HUE_MIN, HUE_MAX = 80, 140\n",
    "SAT_MIN          = 30\n",
    "V_DARK_MAX       = 50\n",
    "\n",
    "def estimate_sky_time_filtered(img):\n",
    "    \"\"\"\n",
    "    Estimate time by the mean of several high percentiles of V\n",
    "    over sky‑colored pixels in the top band, masking out center.\n",
    "    \"\"\"\n",
    "    h, w = img.shape[:2]\n",
    "    # 1) crop top band\n",
    "    top = img[0:int(h * BAND_FRAC), :, :]\n",
    "    hsv = cv2.cvtColor(top, cv2.COLOR_BGR2HSV)\n",
    "    h_chan, s_chan, v_chan = cv2.split(hsv)\n",
    "\n",
    "    # 2) mask out center vertical strip\n",
    "    left  = int(w * (1 - MASK_MID_FRAC) / 2)\n",
    "    right = int(w - left)\n",
    "    h_chan[:, left:right] = 0\n",
    "    s_chan[:, left:right] = 0\n",
    "    v_chan[:, left:right] = 0\n",
    "\n",
    "    # 3) sky‑color mask\n",
    "    blue_mask = ((h_chan >= HUE_MIN) & (h_chan <= HUE_MAX)\n",
    "                 & (s_chan >= SAT_MIN))\n",
    "    dark_mask = (v_chan <= V_DARK_MAX)\n",
    "    sky_mask  = blue_mask | dark_mask\n",
    "\n",
    "    # 4) collect V values\n",
    "    sky_vals = v_chan[sky_mask]\n",
    "    if sky_vals.size == 0:\n",
    "        # fallback to unmasked band\n",
    "        sky_vals = v_chan[v_chan > 0]\n",
    "\n",
    "    # 5) compute a range of percentiles and return their mean\n",
    "    pcts = np.linspace(PCT_MIN, PCT_MAX, NUM_PCTS)\n",
    "    vals = np.percentile(sky_vals, pcts)\n",
    "    return vals.mean()\n",
    "\n",
    "# 2) Filter to those with white text and compute times\n",
    "text_frames = []\n",
    "for p, img in zip(paths, imgs):\n",
    "    if img is None:\n",
    "        continue\n",
    "    if detect_white_text(img):\n",
    "        t = estimate_sky_time_filtered(img)\n",
    "        text_frames.append((p, t))\n",
    "\n",
    "# 3) Sort by descending brightness (brightest = earliest)\n",
    "text_frames.sort(key=lambda x: -x[1])\n",
    "\n",
    "# 4) Copy into DST_FOLDER with zero‑padded sequence names\n",
    "for idx, (src_path, _) in enumerate(text_frames, start=1):\n",
    "    dst_name = f\"{idx:04d}.png\"\n",
    "    dst_path = os.path.join(DST_FOLDER, dst_name)\n",
    "    shutil.copy2(src_path, dst_path)\n",
    "\n",
    "print(f\"Copied {len(text_frames)} sorted text‑frames into '{DST_FOLDER}'.\")\n"
   ],
   "metadata": {
    "collapsed": false,
    "ExecuteTime": {
     "end_time": "2025-04-06T08:42:33.717942Z",
     "start_time": "2025-04-06T08:42:30.895255Z"
    }
   },
   "id": "cb9b3c978c51db5c",
   "execution_count": 78
  },
  {
   "cell_type": "code",
   "outputs": [],
   "source": [],
   "metadata": {
    "collapsed": false
   },
   "id": "21e756598ddc460e"
  },
  {
   "cell_type": "code",
   "outputs": [
    {
     "name": "stdout",
     "output_type": "stream",
     "text": [
      "Number of frames found: 3940\n",
      "Feature vector shape: (3940, 307200)\n"
     ]
    },
    {
     "name": "stderr",
     "output_type": "stream",
     "text": [
      "C:\\Users\\shuce\\AppData\\Local\\Programs\\Python\\Python310\\lib\\site-packages\\sklearn\\manifold\\_isomap.py:384: UserWarning: The number of connected components of the neighbors graph is 2 > 1. Completing the graph to fit Isomap might be slow. Increase the number of neighbors to avoid this issue.\n",
      "  self._fit_transform(X)\n",
      "C:\\Users\\shuce\\AppData\\Local\\Programs\\Python\\Python310\\lib\\site-packages\\scipy\\sparse\\_index.py:168: SparseEfficiencyWarning: Changing the sparsity structure of a csr_matrix is expensive. lil and dok are more efficient.\n",
      "  self._set_intXint(row, col, x.flat[0])\n"
     ]
    },
    {
     "name": "stdout",
     "output_type": "stream",
     "text": [
      "Isomap embedding shape: (3940, 1)\n",
      "Proposed new order of frames: [ 818  362 2115 ... 2670 1241 1607]\n",
      "Reconstructed video written to: reconstructed.avi\n"
     ]
    }
   ],
   "source": [
    "import cv2\n",
    "import numpy as np\n",
    "import glob\n",
    "import os\n",
    "\n",
    "from sklearn.manifold import Isomap\n",
    "\n",
    "# --------------------------------------------------\n",
    "# 1) Load frames from the folder \"ext/\" in random order\n",
    "# --------------------------------------------------\n",
    "\n",
    "# Grab all image paths (change the extension if needed)\n",
    "frame_paths = glob.glob(\"ext/*.png\")  # or *.jpg, *.bmp, etc.\n",
    "\n",
    "# Optional: Shuffle them to simulate the \"randomly shuffled\" scenario\n",
    "# If your folder is already random, you can skip this step\n",
    "np.random.shuffle(frame_paths)\n",
    "\n",
    "print(\"Number of frames found:\", len(frame_paths))\n",
    "\n",
    "# Load images in the given order\n",
    "images = [cv2.imread(p) for p in frame_paths]\n",
    "h, w, c = images[0].shape  # height, width, channels (for writing video later)\n",
    "\n",
    "# --------------------------------------------------\n",
    "# 2) Feature extraction\n",
    "# --------------------------------------------------\n",
    "# A simple approach: resize and flatten each frame into a vector.\n",
    "# You may want to use more sophisticated descriptors or a deeper \n",
    "# feature extraction (e.g. from a CNN) for better results.\n",
    "\n",
    "resized_dim = (320, 320)  # Small dimension to reduce computational cost\n",
    "feature_vectors = []\n",
    "\n",
    "for img in images:\n",
    "    resized = cv2.resize(img, resized_dim)\n",
    "    # Flatten into a single row (64*64*3)\n",
    "    vec = resized.flatten()\n",
    "    feature_vectors.append(vec)\n",
    "\n",
    "feature_vectors = np.array(feature_vectors, dtype=np.float32)\n",
    "print(\"Feature vector shape:\", feature_vectors.shape)\n",
    "\n",
    "# --------------------------------------------------\n",
    "# 3) Apply Isomap for dimensionality reduction\n",
    "# --------------------------------------------------\n",
    "# We'll embed to 1 dimension (n_components=1).\n",
    "# This typically forces Isomap to arrange the frames along a single 'time-like' axis.\n",
    "# n_neighbors should be chosen based on how smooth the transitions are between frames. \n",
    "# You may need to experiment with these parameters:\n",
    "\n",
    "n_neighbors = 5\n",
    "isomap = Isomap(n_neighbors=n_neighbors, n_components=1)\n",
    "embedding_1d = isomap.fit_transform(feature_vectors)\n",
    "\n",
    "# embedding_1d is shape (num_frames, 1)\n",
    "print(\"Isomap embedding shape:\", embedding_1d.shape)\n",
    "\n",
    "# --------------------------------------------------\n",
    "# 4) Sort frames according to their Isomap coordinate\n",
    "# --------------------------------------------------\n",
    "frame_order = np.argsort(embedding_1d[:, 0])\n",
    "print(\"Proposed new order of frames:\", frame_order)\n",
    "\n",
    "# Reorder the images\n",
    "images_reordered = [images[i] for i in frame_order]\n",
    "\n",
    "# --------------------------------------------------\n",
    "# 5) Save the reordered frames as a video\n",
    "# --------------------------------------------------\n",
    "\n",
    "output_video_path = \"reconstructed.avi\"\n",
    "fps = 30.0  # or match your original framerate\n",
    "\n",
    "fourcc = cv2.VideoWriter_fourcc(*'XVID')\n",
    "out = cv2.VideoWriter(output_video_path, fourcc, fps, (w, h))\n",
    "\n",
    "for frame in images_reordered:\n",
    "    out.write(frame)\n",
    "out.release()\n",
    "\n",
    "print(\"Reconstructed video written to:\", output_video_path)\n"
   ],
   "metadata": {
    "collapsed": false,
    "ExecuteTime": {
     "end_time": "2025-04-08T15:00:38.096535Z",
     "start_time": "2025-04-08T14:56:51.364726Z"
    }
   },
   "id": "f4a0e8efeada6426",
   "execution_count": 1
  },
  {
   "cell_type": "code",
   "outputs": [
    {
     "name": "stdout",
     "output_type": "stream",
     "text": [
      "Reconstructed video written to: reconstructed.avi\n"
     ]
    }
   ],
   "source": [
    "output_video_path = \"reconstructed.avi\"\n",
    "fps = 30.0  # or match your original framerate\n",
    "\n",
    "fourcc = cv2.VideoWriter_fourcc(*'MJPG')\n",
    "out = cv2.VideoWriter(output_video_path, fourcc, fps, (w, h))\n",
    "\n",
    "for frame in images_reordered:\n",
    "    out.write(frame)\n",
    "out.release()\n",
    "\n",
    "print(\"Reconstructed video written to:\", output_video_path)"
   ],
   "metadata": {
    "collapsed": false,
    "ExecuteTime": {
     "end_time": "2025-04-08T15:01:22.958803Z",
     "start_time": "2025-04-08T15:01:15.849715Z"
    }
   },
   "id": "b4fc38eec08092b2",
   "execution_count": 2
  }
 ],
 "metadata": {
  "kernelspec": {
   "display_name": "Python 3",
   "language": "python",
   "name": "python3"
  },
  "language_info": {
   "codemirror_mode": {
    "name": "ipython",
    "version": 2
   },
   "file_extension": ".py",
   "mimetype": "text/x-python",
   "name": "python",
   "nbconvert_exporter": "python",
   "pygments_lexer": "ipython2",
   "version": "2.7.6"
  }
 },
 "nbformat": 4,
 "nbformat_minor": 5
}
