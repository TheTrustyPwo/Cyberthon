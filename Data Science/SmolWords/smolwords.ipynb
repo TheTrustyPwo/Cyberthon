{
 "cells": [
  {
   "cell_type": "markdown",
   "source": [
    "# SmolWords\n",
    "\n",
    "We will first reverse the encoder model to reconstruct the raw images, then train a simple CNN on the EMNIST dataset to predict each letter in the image. Finally, we use a dictionary to help us form valid words."
   ],
   "metadata": {
    "collapsed": false
   },
   "id": "90f9bbb4e08d5f7"
  },
  {
   "cell_type": "code",
   "outputs": [],
   "source": [
    "!tar -xf smolwords.tar.xz"
   ],
   "metadata": {
    "colab": {
     "base_uri": "https://localhost:8080/"
    },
    "id": "1HdihTjgB6NB",
    "outputId": "15d048b7-f326-4039-af06-396cdd290710",
    "scrolled": true,
    "collapsed": true,
    "ExecuteTime": {
     "end_time": "2025-05-08T10:02:59.644680Z",
     "start_time": "2025-05-08T10:02:02.439654Z"
    }
   },
   "id": "1HdihTjgB6NB",
   "execution_count": 1
  },
  {
   "cell_type": "code",
   "execution_count": 4,
   "id": "d9c9bcf3-f029-42af-8231-f30959af7d92",
   "metadata": {
    "id": "d9c9bcf3-f029-42af-8231-f30959af7d92",
    "ExecuteTime": {
     "end_time": "2025-05-08T10:11:02.296266Z",
     "start_time": "2025-05-08T10:10:59.613157Z"
    }
   },
   "outputs": [],
   "source": [
    "import os\n",
    "import random\n",
    "from pathlib import Path\n",
    "import numpy as np\n",
    "from tqdm.auto import tqdm\n",
    "\n",
    "import torch\n",
    "import torch.nn as nn\n",
    "from torch.utils.data import Dataset, DataLoader, random_split, ConcatDataset\n",
    "from torchvision import transforms, datasets\n",
    "from torchvision.transforms import functional as F\n",
    "from PIL import Image\n",
    "\n",
    "import matplotlib.pyplot as plt"
   ]
  },
  {
   "cell_type": "code",
   "execution_count": 5,
   "id": "8a06e09f-2426-4396-8721-1de8ddf1b988",
   "metadata": {
    "colab": {
     "base_uri": "https://localhost:8080/"
    },
    "id": "8a06e09f-2426-4396-8721-1de8ddf1b988",
    "outputId": "5c05cb90-f234-4525-a6fe-1d7a2083460f",
    "ExecuteTime": {
     "end_time": "2025-05-08T10:11:08.667989Z",
     "start_time": "2025-05-08T10:11:03.654776Z"
    }
   },
   "outputs": [
    {
     "name": "stdout",
     "output_type": "stream",
     "text": [
      "Using device: cuda\n"
     ]
    },
    {
     "name": "stderr",
     "output_type": "stream",
     "text": [
      "/home/pwo/.local/lib/python3.10/site-packages/torch/cuda/__init__.py:645: UserWarning: Can't initialize amdsmi - Error code: 34\n",
      "  warnings.warn(f\"Can't initialize amdsmi - Error code: {e.err_code}\")\n"
     ]
    },
    {
     "data": {
      "text/plain": "RecursiveScriptModule(\n  original_name=Encoder\n  (fc1): RecursiveScriptModule(original_name=Linear)\n  (fc2): RecursiveScriptModule(original_name=Linear)\n  (fc3): RecursiveScriptModule(original_name=Linear)\n)"
     },
     "execution_count": 5,
     "metadata": {},
     "output_type": "execute_result"
    }
   ],
   "source": [
    "device = torch.device(\"cuda\")\n",
    "print(\"Using device:\", device)\n",
    "encoder = torch.jit.load(\"dist/encoder_only_cpu.pt\", map_location=device)\n",
    "encoder.eval()"
   ]
  },
  {
   "cell_type": "markdown",
   "source": [
    "## 1. Decoder\n",
    "\n",
    "Convolutional autoencoder decoder: converts 32-dim code back to the 28x28 image. "
   ],
   "metadata": {
    "collapsed": false
   },
   "id": "54c6431ef3988581"
  },
  {
   "cell_type": "code",
   "source": [
    "class Decoder(nn.Module):\n",
    "    def __init__(self, latent_dim=32):\n",
    "        super().__init__()\n",
    "        self.fc = nn.Linear(latent_dim, 256 * 7 * 7)\n",
    "\n",
    "        self.decode = nn.Sequential(\n",
    "            nn.ConvTranspose2d(256, 128, kernel_size=4, stride=2, padding=1),\n",
    "            nn.LeakyReLU(0.2, inplace=True),\n",
    "            nn.Dropout(0.2),\n",
    "\n",
    "            nn.ConvTranspose2d(128, 64, kernel_size=4, stride=2, padding=1),\n",
    "            nn.LeakyReLU(0.2, inplace=True),\n",
    "            nn.Dropout(0.2),\n",
    "\n",
    "            nn.Conv2d(64, 1, kernel_size=3, padding=1),\n",
    "            nn.Sigmoid(),\n",
    "\n",
    "            nn.Flatten(start_dim=1)      # ← flattens to (B, 28*28)\n",
    "        )\n",
    "\n",
    "    def forward(self, x):\n",
    "        x = self.fc(x)                  # → (B, 256*7*7)\n",
    "        x = x.view(-1, 256, 7, 7)       # → (B, 256, 7, 7)\n",
    "        x = self.decode(x)              # → (B, 784)\n",
    "        return x"
   ],
   "metadata": {
    "id": "Ked_l3mYlnLb",
    "ExecuteTime": {
     "end_time": "2025-05-08T10:11:34.788289Z",
     "start_time": "2025-05-08T10:11:34.784590Z"
    }
   },
   "id": "Ked_l3mYlnLb",
   "execution_count": 6,
   "outputs": []
  },
  {
   "cell_type": "code",
   "source": [
    "decoder = Decoder().to(device)\n",
    "optimizer = torch.optim.Adam(decoder.parameters(), lr=1e-4)\n",
    "criterion = nn.MSELoss()\n",
    "\n",
    "compressed_path = \"dist/dataset/compressed/\"\n",
    "raw_path = \"dist/dataset/raw/\"\n",
    "compressed_files = sorted([f for f in os.listdir(compressed_path) if f[0] != '.'])"
   ],
   "metadata": {
    "id": "cbkTpCxaloBg",
    "ExecuteTime": {
     "end_time": "2025-05-08T10:11:36.661383Z",
     "start_time": "2025-05-08T10:11:36.639430Z"
    }
   },
   "id": "cbkTpCxaloBg",
   "execution_count": 7,
   "outputs": []
  },
  {
   "cell_type": "code",
   "source": [
    "import os\n",
    "from PIL import Image\n",
    "import torch\n",
    "from torch.utils.data import Dataset, DataLoader\n",
    "from torchvision import transforms\n",
    "from tqdm import tqdm\n",
    "\n",
    "device = torch.device(\"cuda\" if torch.cuda.is_available() else \"cpu\")\n",
    "torch.backends.cudnn.benchmark = True\n",
    "\n",
    "# 1) Build a list of all (compressed_patch, raw_patch) file‐position pairs\n",
    "class PatchPairDataset(Dataset):\n",
    "    def __init__(self, compressed_dir, raw_dir, file_list):\n",
    "        self.pairs = []\n",
    "        self.to_tensor = transforms.Compose([\n",
    "            transforms.ToTensor(),               # gives [1, H, W], float32 in [0,1]\n",
    "            transforms.Lambda(lambda t: t.view(-1)),  # flatten\n",
    "        ])\n",
    "        for fname in tqdm(file_list, desc=\"Indexing files\"):\n",
    "            comp = Image.open(os.path.join(compressed_dir, fname)).convert(\"L\")\n",
    "            raw   = Image.open(os.path.join(raw_dir, fname.replace(\"smol\", \"word\"))).convert(\"L\")\n",
    "            w = comp.size[1]  # compressed_img.size = (32, word_len)\n",
    "            for i in range(w):\n",
    "                self.pairs.append((fname, i))\n",
    "\n",
    "        self.compressed_dir = compressed_dir\n",
    "        self.raw_dir = raw_dir\n",
    "\n",
    "    def __len__(self):\n",
    "        return len(self.pairs)\n",
    "\n",
    "    def __getitem__(self, idx):\n",
    "        fname, i = self.pairs[idx]\n",
    "        # load compressed patch\n",
    "        comp = Image.open(os.path.join(self.compressed_dir, fname)).convert(\"L\")\n",
    "        patchC = comp.crop((0, i, 32, i+1))\n",
    "        latent = self.to_tensor(patchC)  # shape [32]\n",
    "\n",
    "        # load raw letter\n",
    "        raw = Image.open(os.path.join(self.raw_dir, fname.replace(\"smol\", \"word\"))).convert(\"L\")\n",
    "        letter = raw.crop((i*28, 0, (i+1)*28, 28))\n",
    "        target = self.to_tensor(letter)  # shape [784]\n",
    "\n",
    "        return latent, target\n",
    "\n",
    "# 2) Instantiate dataset + dataloader\n",
    "compressed_path = \"dist/dataset/compressed\"\n",
    "raw_path        = \"dist/dataset/raw\"\n",
    "files = compressed_files[:100]\n",
    "ds = PatchPairDataset(compressed_path, raw_path, files)\n",
    "loader = DataLoader(ds, batch_size=32)\n",
    "\n",
    "# 3) Move model & criterion to GPU\n",
    "decoder   = decoder.to(device)\n",
    "criterion = criterion.to(device)\n",
    "\n",
    "# 4) Training loop\n",
    "EPOCHS = 100\n",
    "for epoch in range(1, EPOCHS+1):\n",
    "    total_loss = 0.0\n",
    "    for batch_latent, batch_target in tqdm(loader, desc=f\"Epoch {epoch}/{EPOCHS}\"):\n",
    "        batch_latent = batch_latent.to(device)  # [B,32]\n",
    "        batch_target = batch_target.to(device)  # [B,784]\n",
    "\n",
    "        optimizer.zero_grad()\n",
    "        output = decoder(batch_latent)          # [B,784]\n",
    "        loss   = criterion(output, batch_target)\n",
    "        loss.backward()\n",
    "        optimizer.step()\n",
    "\n",
    "        total_loss += loss.item() * batch_latent.size(0)\n",
    "\n",
    "    avg_loss = total_loss / len(ds)\n",
    "    print(f\"Epoch {epoch}/{EPOCHS} — avg loss: {avg_loss:.6f}\")\n"
   ],
   "metadata": {
    "colab": {
     "base_uri": "https://localhost:8080/"
    },
    "collapsed": true,
    "id": "BV2zW8Urlupz",
    "outputId": "a337d2c4-27c4-4b43-98ef-6489e78f18de"
   },
   "id": "BV2zW8Urlupz",
   "execution_count": null,
   "outputs": []
  },
  {
   "cell_type": "code",
   "source": [
    "for file_name in tqdm(compressed_files, desc=\"Reconstructing\"):\n",
    "    compressed_img = Image.open(os.path.join(compressed_path, file_name)).convert(\"L\")\n",
    "    width, height = compressed_img.size  # Should be 32 x word_len\n",
    "    out_img = Image.new(\"L\", (28 * height, 28))\n",
    "\n",
    "    for i in range(height):\n",
    "        patch = compressed_img.crop((0, i, 32, i + 1))  # (32, 1)\n",
    "        arr = np.array(patch).astype(np.float32).flatten() / 255.0\n",
    "        x = torch.tensor(arr, dtype=torch.float32, device=device).unsqueeze(0)\n",
    "\n",
    "        with torch.no_grad():\n",
    "            reconstructed = decoder(x).reshape(28, 28).cpu().numpy()\n",
    "\n",
    "        letter_img = Image.fromarray((reconstructed * 255).astype(np.uint8))\n",
    "        out_img.paste(letter_img, (i * 28, 0))\n",
    "\n",
    "    out_img.save(f\"reconstructed/{file_name}\")"
   ],
   "metadata": {
    "colab": {
     "base_uri": "https://localhost:8080/"
    },
    "id": "VcfGMYyOmmjg",
    "outputId": "3529c4d0-6252-4bc0-9111-f81776701a63",
    "ExecuteTime": {
     "end_time": "2025-05-08T10:13:15.550766Z",
     "start_time": "2025-05-08T10:12:40.856985Z"
    }
   },
   "id": "VcfGMYyOmmjg",
   "execution_count": 10,
   "outputs": [
    {
     "name": "stderr",
     "output_type": "stream",
     "text": [
      "Reconstructing: 100%|██████████| 5000/5000 [00:34<00:00, 144.14it/s]\n"
     ]
    }
   ]
  },
  {
   "cell_type": "markdown",
   "source": [
    "## 2. EMNIST Dataset\n",
    "\n",
    "Since we only care about lowercase letters, only choose them and cap each class by 3000 to avoid over-representation.\n",
    "Then, do a 80-20 train-test split."
   ],
   "metadata": {
    "collapsed": false
   },
   "id": "2fe2ec1b6642300b"
  },
  {
   "cell_type": "code",
   "execution_count": 11,
   "id": "e03bf591-2f5c-4fc9-98d0-d6076f8f8318",
   "metadata": {
    "colab": {
     "base_uri": "https://localhost:8080/"
    },
    "id": "e03bf591-2f5c-4fc9-98d0-d6076f8f8318",
    "outputId": "f3e70b50-a549-4440-9f74-3542c1969c96",
    "ExecuteTime": {
     "end_time": "2025-05-08T10:13:45.698147Z",
     "start_time": "2025-05-08T10:13:17.014076Z"
    }
   },
   "outputs": [
    {
     "name": "stdout",
     "output_type": "stream",
     "text": [
      "Downloading https://biometrics.nist.gov/cs_links/EMNIST/gzip.zip to data/EMNIST/raw/gzip.zip\n"
     ]
    },
    {
     "name": "stderr",
     "output_type": "stream",
     "text": [
      "100%|██████████| 561753746/561753746 [00:06<00:00, 87769349.16it/s] \n"
     ]
    },
    {
     "name": "stdout",
     "output_type": "stream",
     "text": [
      "Extracting data/EMNIST/raw/gzip.zip to data/EMNIST/raw\n",
      "Combined total examples: 98378\n",
      "Train / Val = 78702 / 19676\n"
     ]
    }
   ],
   "source": [
    "import torchvision\n",
    "\n",
    "mapp = {}\n",
    "class FilteredEMNISTRaw(Dataset):\n",
    "    def __init__(self, train=True, split='byclass', cap_per_class=3000):\n",
    "        base = datasets.EMNIST(\n",
    "            root=\"data\",\n",
    "            split=split,\n",
    "            train=train,\n",
    "            download=True,\n",
    "\n",
    "        )\n",
    "        chars = base.classes\n",
    "        by_label = {}\n",
    "        for idx, (_, lab) in enumerate(zip(base.data, base.targets)):\n",
    "            c = chars[lab]\n",
    "            if 'a' <= c <= 'z':\n",
    "                by_label.setdefault(lab.item(), []).append(idx)\n",
    "\n",
    "        # cap each class\n",
    "        self.selected = []\n",
    "        for lab, idxs in by_label.items():\n",
    "            random.shuffle(idxs)\n",
    "            self.selected += idxs[:cap_per_class]\n",
    "        self.selected.sort()\n",
    "\n",
    "        # map old→new labels 0..N‑1\n",
    "        used = sorted(by_label.keys())\n",
    "        self.lab_map = {old: new for new, old in enumerate(used)}\n",
    "        global mapp\n",
    "        mapp = {new: chars[old] for new, old in enumerate(used)}\n",
    "        self.num_classes = len(used)\n",
    "\n",
    "        # transforms\n",
    "        self.to_tensor = torchvision.transforms.ToTensor()\n",
    "        self.base = base\n",
    "\n",
    "    def __len__(self):\n",
    "        return len(self.selected)\n",
    "\n",
    "    def __getitem__(self, i):\n",
    "        idx = self.selected[i]\n",
    "        img = self.base.data[idx].unsqueeze(0).float().div(255).T.reshape(1, 28, 28)  # (1,28,28)\n",
    "        lab = int(self.base.targets[idx].item())\n",
    "        return img.to(device), self.lab_map[lab]\n",
    "\n",
    "from torch.utils.data import ConcatDataset, random_split\n",
    "\n",
    "# 1) instantiate both halves\n",
    "train_part = FilteredEMNISTRaw(train=True)\n",
    "test_part  = FilteredEMNISTRaw(train=False)\n",
    "\n",
    "# 2) concatenate into one big dataset\n",
    "ds_full = ConcatDataset([train_part, test_part])\n",
    "print(\"Combined total examples:\", len(ds_full))\n",
    "\n",
    "# 3) 80/20 split\n",
    "train_len = int(0.8 * len(ds_full))\n",
    "val_len   = len(ds_full) - train_len\n",
    "train_ds, val_ds = random_split(ds_full, [train_len, val_len])\n",
    "\n",
    "print(f\"Train / Val = {len(train_ds)} / {len(val_ds)}\")"
   ]
  },
  {
   "cell_type": "code",
   "source": [
    "train_ds[0][0].shape"
   ],
   "metadata": {
    "colab": {
     "base_uri": "https://localhost:8080/"
    },
    "id": "wQTMRMEbw6t4",
    "outputId": "61c22e01-82e7-43b7-eddc-cde285d08844",
    "ExecuteTime": {
     "end_time": "2025-05-08T10:13:50.608796Z",
     "start_time": "2025-05-08T10:13:50.600736Z"
    }
   },
   "id": "wQTMRMEbw6t4",
   "execution_count": 12,
   "outputs": [
    {
     "name": "stderr",
     "output_type": "stream",
     "text": [
      "/tmp/ipykernel_115541/2943774679.py:43: UserWarning: The use of `x.T` on tensors of dimension other than 2 to reverse their shape is deprecated and it will throw an error in a future release. Consider `x.mT` to transpose batches of matrices or `x.permute(*torch.arange(x.ndim - 1, -1, -1))` to reverse the dimensions of a tensor. (Triggered internally at /pytorch/aten/src/ATen/native/TensorShape.cpp:3697.)\n",
      "  img = self.base.data[idx].unsqueeze(0).float().div(255).T.reshape(1, 28, 28)  # (1,28,28)\n"
     ]
    },
    {
     "data": {
      "text/plain": "torch.Size([1, 28, 28])"
     },
     "execution_count": 12,
     "metadata": {},
     "output_type": "execute_result"
    }
   ]
  },
  {
   "cell_type": "code",
   "source": [
    "import math\n",
    "display = 25\n",
    "num_cells = math.ceil(math.sqrt(display))\n",
    "plt.figure(figsize=(10,10))\n",
    "for i in range(display):\n",
    "    plt.subplot(num_cells, num_cells, i+1)\n",
    "    plt.xticks([])\n",
    "    plt.yticks([])\n",
    "    plt.grid(False)\n",
    "    plt.imshow(train_ds[i][0].to('cpu').squeeze(), cmap=plt.cm.binary)\n",
    "    plt.xlabel(mapp[train_ds[i][1]])\n",
    "plt.show()"
   ],
   "metadata": {
    "colab": {
     "base_uri": "https://localhost:8080/",
     "height": 826
    },
    "id": "MDk_DkDifrzV",
    "outputId": "754831ff-0761-4d7b-c59d-c8961694b072",
    "ExecuteTime": {
     "end_time": "2025-05-08T10:13:52.164678Z",
     "start_time": "2025-05-08T10:13:51.653213Z"
    }
   },
   "id": "MDk_DkDifrzV",
   "execution_count": 13,
   "outputs": [
    {
     "data": {
      "text/plain": "<Figure size 1000x1000 with 25 Axes>",
      "image/png": "[encoded data removed]"
     },
     "metadata": {},
     "output_type": "display_data"
    }
   ]
  },
  {
   "cell_type": "code",
   "execution_count": 24,
   "id": "08bc845f-7b1c-445a-915d-de590b5729ef",
   "metadata": {
    "id": "08bc845f-7b1c-445a-915d-de590b5729ef",
    "ExecuteTime": {
     "end_time": "2025-05-08T10:15:02.235978Z",
     "start_time": "2025-05-08T10:15:02.232916Z"
    }
   },
   "outputs": [],
   "source": [
    "batch_size = 512\n",
    "\n",
    "train_loader = DataLoader(train_ds, batch_size=batch_size, shuffle=True,  num_workers=0)\n",
    "val_loader   = DataLoader(val_ds,   batch_size=batch_size, shuffle=False, num_workers=0)"
   ]
  },
  {
   "cell_type": "markdown",
   "source": [
    "## 3. Training\n",
    "\n",
    "Just a simple CNN model will do. Fast and can get 90%+ accuracy."
   ],
   "metadata": {
    "collapsed": false
   },
   "id": "70d98277dd91f8c6"
  },
  {
   "cell_type": "code",
   "execution_count": 25,
   "id": "2ab2d435-1a1f-4a77-b59d-ee846769e954",
   "metadata": {
    "id": "2ab2d435-1a1f-4a77-b59d-ee846769e954",
    "ExecuteTime": {
     "end_time": "2025-05-08T10:15:02.453059Z",
     "start_time": "2025-05-08T10:15:02.422765Z"
    }
   },
   "outputs": [],
   "source": [
    "class SimpleCNN(nn.Module):\n",
    "    def __init__(self, num_classes):\n",
    "        super().__init__()\n",
    "        self.features = nn.Sequential(\n",
    "            nn.Conv2d(1, 32, kernel_size=3, padding=1),  # → 32×28×28\n",
    "            nn.ReLU(inplace=True),\n",
    "            nn.MaxPool2d(2,2),                           # → 32×14×14\n",
    "        )\n",
    "        self.classifier = nn.Sequential(\n",
    "            nn.Flatten(),                                # → 32*14*14\n",
    "            nn.Linear(32*14*14, 512),\n",
    "            nn.ReLU(inplace=True),\n",
    "            nn.Linear(512, 128),\n",
    "            nn.ReLU(inplace=True),\n",
    "            nn.Linear(128, num_classes)\n",
    "        )\n",
    "\n",
    "    def forward(self, x):\n",
    "        x = self.features(x)\n",
    "        x = self.classifier(x)\n",
    "        return x\n",
    "\n",
    "model = SimpleCNN(num_classes=26).to(device)"
   ]
  },
  {
   "cell_type": "code",
   "execution_count": 26,
   "id": "40439695-b9e6-46ea-ba7e-6ac64b539211",
   "metadata": {
    "id": "40439695-b9e6-46ea-ba7e-6ac64b539211",
    "ExecuteTime": {
     "end_time": "2025-05-08T10:15:02.624741Z",
     "start_time": "2025-05-08T10:15:02.620453Z"
    }
   },
   "outputs": [],
   "source": [
    "criterion = nn.CrossEntropyLoss()\n",
    "optimizer = torch.optim.Adam(model.parameters(), lr=0.001, weight_decay=0.0001)\n",
    "scheduler = torch.optim.lr_scheduler.CosineAnnealingLR(optimizer, T_max=10)"
   ]
  },
  {
   "cell_type": "code",
   "execution_count": 27,
   "id": "c293484d-b7d9-4a25-b75b-8a2548a77d8a",
   "metadata": {
    "id": "c293484d-b7d9-4a25-b75b-8a2548a77d8a",
    "ExecuteTime": {
     "end_time": "2025-05-08T10:15:02.820061Z",
     "start_time": "2025-05-08T10:15:02.816165Z"
    }
   },
   "outputs": [],
   "source": [
    "def run_epoch(loader, train=True):\n",
    "    if train:\n",
    "        model.train()\n",
    "    else:\n",
    "        model.eval()\n",
    "    total_loss, correct = 0, 0\n",
    "    for xb, yb in tqdm(loader, desc=\"Train\" if train else \"Val  \"):\n",
    "        xb, yb = xb.to(device), yb.to(device)\n",
    "        preds = model(xb)\n",
    "        loss = criterion(preds, yb)\n",
    "        if train:\n",
    "            optimizer.zero_grad()\n",
    "            loss.backward()\n",
    "            optimizer.step()\n",
    "        total_loss += loss.item() * xb.size(0)\n",
    "        correct    += (preds.argmax(1) == yb).sum().item()\n",
    "    acc = correct / len(loader.dataset)\n",
    "    return total_loss / len(loader.dataset), acc"
   ]
  },
  {
   "cell_type": "code",
   "execution_count": 28,
   "id": "4027e4be-f627-4a66-a824-b88ec2374006",
   "metadata": {
    "scrolled": true,
    "colab": {
     "base_uri": "https://localhost:8080/"
    },
    "id": "4027e4be-f627-4a66-a824-b88ec2374006",
    "outputId": "dbf34089-c961-4145-bcaa-bb8523d5affd",
    "ExecuteTime": {
     "end_time": "2025-05-08T10:18:16.785601Z",
     "start_time": "2025-05-08T10:15:03.824088Z"
    }
   },
   "outputs": [
    {
     "name": "stderr",
     "output_type": "stream",
     "text": [
      "Train: 100%|██████████| 154/154 [00:17<00:00,  8.62it/s]\n",
      "Val  : 100%|██████████| 39/39 [00:02<00:00, 17.76it/s]\n"
     ]
    },
    {
     "name": "stdout",
     "output_type": "stream",
     "text": [
      "Epoch  1 | Train Loss 1.101, Acc 68.710% | Val Loss 0.594, Acc 82.908%\n"
     ]
    },
    {
     "name": "stderr",
     "output_type": "stream",
     "text": [
      "Train: 100%|██████████| 154/154 [00:14<00:00, 10.66it/s]\n",
      "Val  : 100%|██████████| 39/39 [00:03<00:00, 12.89it/s]\n"
     ]
    },
    {
     "name": "stdout",
     "output_type": "stream",
     "text": [
      "Epoch  2 | Train Loss 0.502, Acc 85.069% | Val Loss 0.417, Acc 87.843%\n"
     ]
    },
    {
     "name": "stderr",
     "output_type": "stream",
     "text": [
      "Train: 100%|██████████| 154/154 [00:13<00:00, 11.21it/s]\n",
      "Val  : 100%|██████████| 39/39 [00:03<00:00, 12.97it/s]\n"
     ]
    },
    {
     "name": "stdout",
     "output_type": "stream",
     "text": [
      "Epoch  3 | Train Loss 0.373, Acc 88.650% | Val Loss 0.350, Acc 89.342%\n"
     ]
    },
    {
     "name": "stderr",
     "output_type": "stream",
     "text": [
      "Train: 100%|██████████| 154/154 [00:14<00:00, 10.53it/s]\n",
      "Val  : 100%|██████████| 39/39 [00:22<00:00,  1.72it/s]\n"
     ]
    },
    {
     "name": "stdout",
     "output_type": "stream",
     "text": [
      "Epoch  4 | Train Loss 0.316, Acc 90.141% | Val Loss 0.311, Acc 90.359%\n"
     ]
    },
    {
     "name": "stderr",
     "output_type": "stream",
     "text": [
      "Train: 100%|██████████| 154/154 [00:14<00:00, 10.60it/s]\n",
      "Val  : 100%|██████████| 39/39 [00:03<00:00, 12.15it/s]\n"
     ]
    },
    {
     "name": "stdout",
     "output_type": "stream",
     "text": [
      "Epoch  5 | Train Loss 0.281, Acc 91.149% | Val Loss 0.290, Acc 90.852%\n"
     ]
    },
    {
     "name": "stderr",
     "output_type": "stream",
     "text": [
      "Train: 100%|██████████| 154/154 [00:13<00:00, 11.17it/s]\n",
      "Val  : 100%|██████████| 39/39 [00:03<00:00, 11.68it/s]\n"
     ]
    },
    {
     "name": "stdout",
     "output_type": "stream",
     "text": [
      "Epoch  6 | Train Loss 0.259, Acc 91.642% | Val Loss 0.277, Acc 91.106%\n"
     ]
    },
    {
     "name": "stderr",
     "output_type": "stream",
     "text": [
      "Train: 100%|██████████| 154/154 [00:14<00:00, 10.58it/s]\n",
      "Val  : 100%|██████████| 39/39 [00:03<00:00, 12.85it/s]\n"
     ]
    },
    {
     "name": "stdout",
     "output_type": "stream",
     "text": [
      "Epoch  7 | Train Loss 0.239, Acc 92.273% | Val Loss 0.266, Acc 91.370%\n"
     ]
    },
    {
     "name": "stderr",
     "output_type": "stream",
     "text": [
      "Train: 100%|██████████| 154/154 [00:12<00:00, 12.17it/s]\n",
      "Val  : 100%|██████████| 39/39 [00:02<00:00, 13.47it/s]\n"
     ]
    },
    {
     "name": "stdout",
     "output_type": "stream",
     "text": [
      "Epoch  8 | Train Loss 0.224, Acc 92.672% | Val Loss 0.267, Acc 91.421%\n"
     ]
    },
    {
     "name": "stderr",
     "output_type": "stream",
     "text": [
      "Train: 100%|██████████| 154/154 [00:13<00:00, 11.18it/s]\n",
      "Val  : 100%|██████████| 39/39 [00:02<00:00, 13.59it/s]\n"
     ]
    },
    {
     "name": "stdout",
     "output_type": "stream",
     "text": [
      "Epoch  9 | Train Loss 0.210, Acc 93.079% | Val Loss 0.257, Acc 91.650%\n"
     ]
    },
    {
     "name": "stderr",
     "output_type": "stream",
     "text": [
      "Train: 100%|██████████| 154/154 [00:13<00:00, 11.49it/s]\n",
      "Val  : 100%|██████████| 39/39 [00:03<00:00, 11.98it/s]"
     ]
    },
    {
     "name": "stdout",
     "output_type": "stream",
     "text": [
      "Epoch 10 | Train Loss 0.197, Acc 93.461% | Val Loss 0.258, Acc 91.645%\n"
     ]
    },
    {
     "name": "stderr",
     "output_type": "stream",
     "text": [
      "\n"
     ]
    }
   ],
   "source": [
    "for epoch in range(1, 11):\n",
    "    train_loss, train_acc = run_epoch(train_loader, train=True)\n",
    "    val_loss,   val_acc   = run_epoch(val_loader,   train=False)\n",
    "    print(f\"Epoch {epoch:2d} | \"\n",
    "          f\"Train Loss {train_loss:.3f}, Acc {train_acc:.3%} | \"\n",
    "          f\"Val Loss {val_loss:.3f}, Acc {val_acc:.3%}\")"
   ]
  },
  {
   "cell_type": "code",
   "source": [
    "torch.save(model.state_dict(), 'weights.pth')"
   ],
   "metadata": {
    "id": "Ye0KXqNJ18xB",
    "ExecuteTime": {
     "end_time": "2025-05-08T10:18:52.558156Z",
     "start_time": "2025-05-08T10:18:52.534126Z"
    }
   },
   "id": "Ye0KXqNJ18xB",
   "execution_count": 29,
   "outputs": []
  },
  {
   "cell_type": "markdown",
   "source": [
    "## 4. Predicting\n",
    "\n",
    "For each of the letters, store the top 3 predictions and their probabilities. This helps the dictionary better determine the word, as letters like 'I' and 'L' can be hard to distinguish."
   ],
   "metadata": {
    "collapsed": false
   },
   "id": "21536dd76ccc2c64"
  },
  {
   "cell_type": "code",
   "execution_count": 30,
   "id": "98cfcd88-3fb5-474d-9049-e0f63624c9d0",
   "metadata": {
    "id": "98cfcd88-3fb5-474d-9049-e0f63624c9d0",
    "colab": {
     "base_uri": "https://localhost:8080/"
    },
    "outputId": "5857f00a-0c3a-4d46-bf9a-93831e5e80e2",
    "ExecuteTime": {
     "end_time": "2025-05-08T10:19:02.591218Z",
     "start_time": "2025-05-08T10:18:53.917696Z"
    }
   },
   "outputs": [
    {
     "name": "stderr",
     "output_type": "stream",
     "text": [
      "100%|██████████| 5000/5000 [00:08<00:00, 582.32it/s]"
     ]
    },
    {
     "name": "stdout",
     "output_type": "stream",
     "text": [
      "smol0000.png         → r(1.00) t(0.00) c(0.00)  | o(0.63) a(0.36) d(0.00)  | g(0.80) z(0.15) q(0.03)  | u(0.78) n(0.13) v(0.05)  | l(0.92) i(0.07) r(0.00)  | b(0.98) d(0.01) o(0.01)  | a(0.91) z(0.05) g(0.03)  | l(0.89) i(0.10) j(0.00)  | a(0.96) n(0.02) o(0.01)  | j(0.99) i(0.01) l(0.00)  | i(0.90) l(0.09) r(0.00) \n",
      "smol0001.png         → a(0.90) c(0.05) i(0.02)  | i(0.56) j(0.34) s(0.06)  | c(1.00) o(0.00) i(0.00)  | d(0.98) j(0.01) a(0.00)  | e(0.97) c(0.02) q(0.00)  | f(0.96) p(0.02) i(0.01) \n",
      "smol0002.png         → g(0.71) q(0.20) s(0.02)  | h(0.98) n(0.01) b(0.00)  | l(0.77) i(0.23) j(0.00)  | j(0.94) i(0.04) l(0.01)  | h(0.56) i(0.18) k(0.09)  | l(0.97) i(0.03) r(0.00) \n",
      "smol0003.png         → m(1.00) n(0.00) w(0.00)  | n(1.00) r(0.00) o(0.00)  | o(1.00) d(0.00) a(0.00)  | p(0.99) r(0.01) f(0.00)  | q(0.53) g(0.35) y(0.05)  | r(0.88) f(0.07) i(0.02) \n",
      "smol0004.png         → s(1.00) j(0.00) g(0.00)  | t(0.94) r(0.04) j(0.01)  | l(0.39) v(0.15) u(0.13)  | v(1.00) u(0.00) r(0.00)  | w(0.59) v(0.37) n(0.02)  | x(0.99) l(0.00) i(0.00) \n",
      "smol0005.png         → y(0.97) v(0.02) r(0.00)  | z(0.99) j(0.00) c(0.00)  | o(1.00) d(0.00) c(0.00)  | l(0.99) i(0.01) y(0.00)  | z(0.75) l(0.07) g(0.05)  | g(0.92) z(0.03) s(0.02) \n",
      "smol0006.png         → y(0.92) v(0.04) n(0.01)  | g(0.78) s(0.13) j(0.05)  | u(0.73) b(0.22) w(0.03)  | y(0.37) q(0.22) z(0.17)  | g(0.49) q(0.38) f(0.05)  | g(0.89) q(0.08) o(0.01) \n",
      "smol0007.png         → t(0.87) f(0.08) j(0.03)  | r(0.95) v(0.02) i(0.01)  | e(0.82) c(0.18) r(0.00)  | s(0.98) g(0.01) a(0.00)  | l(0.78) t(0.10) i(0.06)  | l(0.88) i(0.12) j(0.00)  | e(0.86) c(0.14) z(0.00) \n",
      "smol0008.png         → h(0.98) n(0.02) k(0.00)  | e(0.92) c(0.06) o(0.02)  | r(0.99) v(0.01) x(0.00)  | r(1.00) v(0.00) n(0.00)  | e(0.99) c(0.01) t(0.00)  | n(0.99) r(0.01) x(0.00) \n",
      "smol0009.png         → r(0.48) m(0.40) v(0.08)  | i(0.98) l(0.02) r(0.00)  | l(0.79) i(0.16) r(0.03)  | s(1.00) g(0.00) j(0.00)  | l(0.76) i(0.14) t(0.08)  | e(0.99) c(0.01) z(0.00)  | l(0.93) i(0.07) j(0.00)  | n(1.00) r(0.00) m(0.00) \n"
     ]
    },
    {
     "name": "stderr",
     "output_type": "stream",
     "text": [
      "\n"
     ]
    }
   ],
   "source": [
    "# Cell: Fast batched strip prediction\n",
    "import os, glob\n",
    "from PIL import Image\n",
    "import torch\n",
    "import torch.nn.functional as F\n",
    "from torchvision.transforms import ToTensor\n",
    "\n",
    "# 1) Build char_map once\n",
    "base = datasets.EMNIST(root=\"data\", split='byclass', train=False, download=True)\n",
    "chars = base.classes\n",
    "sel = [i for i,c in enumerate(chars) if ('a'<=c<='z')]\n",
    "lab_map = {old: new for new,old in enumerate(sel)}\n",
    "char_map = {new: chars[old] for old,new in lab_map.items()}\n",
    "\n",
    "# 2) Prep\n",
    "to_tensor = ToTensor()\n",
    "model.eval()\n",
    "\n",
    "results = {}\n",
    "paths = sorted(glob.glob(\"reconstructed/*.png\"))\n",
    "for path in tqdm(paths):\n",
    "    img = Image.open(path).convert(\"L\")\n",
    "    tensor = to_tensor(img)            # [1, H, W]\n",
    "    _, H, W = tensor.shape\n",
    "    n = W // 28\n",
    "    if n == 0:\n",
    "        continue\n",
    "\n",
    "    # 3) Slice into tiles all at once\n",
    "    # unfold dim=2 (W) into windows of size 28, step 28 → shape [1, H, n, 28]\n",
    "    windows = tensor.unfold(2, 28, 28)           # [1,H,n,28]\n",
    "    # permute to [n, 1, H, 28] then center‑crop H to 28 (assuming H=28)\n",
    "    tiles = windows.permute(2, 0, 1, 3)          # [n,1,H,28]\n",
    "    # if H>28, you could slice: tiles = tiles[..., :28, :]\n",
    "    tiles = tiles[..., :28, :]                   # [n,1,28,28]\n",
    "\n",
    "    # 4) Batch inference\n",
    "    batch = tiles.to(device)                     # [n,1,28,28]\n",
    "    with torch.no_grad():\n",
    "        logits = model(batch)                    # [n, C]\n",
    "        probs  = F.softmax(logits, dim=1)        # [n, C]\n",
    "        topp, topi = probs.topk(3, dim=1)      # [n,3]\n",
    "\n",
    "    # 5) Map to chars\n",
    "    topp = topp.cpu()\n",
    "    topi = topi.cpu()\n",
    "    word_preds = []\n",
    "    for pi, ii in zip(topp, topi):\n",
    "        preds = [(char_map[int(i)], float(p)) for i,p in zip(ii, pi)]\n",
    "        word_preds.append(preds)\n",
    "\n",
    "    results[os.path.basename(path)] = word_preds\n",
    "\n",
    "# 6) Display first 10\n",
    "for fname, preds in list(results.items())[:10]:\n",
    "    line = \" | \".join(\n",
    "        \"\".join(f\"{c}({p:.2f}) \" for c,p in letter_preds)\n",
    "        for letter_preds in preds\n",
    "    )\n",
    "    print(f\"{fname:20s} → {line}\")\n"
   ]
  },
  {
   "cell_type": "markdown",
   "source": [
    "## 5. Dictionary Check\n",
    "\n",
    "We noticed the data actually contained some French and Italian words, so we included them for a total of 3 million words in our dictionary.\n",
    "First, we try to form a word with only the letters that were detected, and choosing a valid word with the highest score. The score is defined as the product of the softmax probability for the candidate word across every letter position. If there are no valid words, and the highest valid word has a score below `threshold = 1e-8`, then we allow one letter to be arbitrarily modified and repeat the same process. Finally, if all valid words are below threshold, we simply return a word in the dictionary with the lowest hamming distance to the string formed by greedily concatenating the most likely letters at each position."
   ],
   "metadata": {
    "collapsed": false
   },
   "id": "ac2d53a391a1428c"
  },
  {
   "cell_type": "code",
   "source": [
    "from wordfreq import top_n_list\n",
    "dictionary = set(w.lower() for w in top_n_list(\"en\", 20000000)) | set(w.lower() for w in top_n_list('it', 500000)) | set(w.lower() for w in top_n_list('fr', 500000))"
   ],
   "metadata": {
    "id": "dvfCW00t8S4O",
    "ExecuteTime": {
     "end_time": "2025-05-08T10:19:17.745133Z",
     "start_time": "2025-05-08T10:19:16.746299Z"
    }
   },
   "id": "dvfCW00t8S4O",
   "execution_count": 33,
   "outputs": []
  },
  {
   "cell_type": "code",
   "execution_count": 34,
   "id": "a1ac672a-d3ce-4798-866f-dce23444a4f5",
   "metadata": {
    "id": "a1ac672a-d3ce-4798-866f-dce23444a4f5",
    "colab": {
     "base_uri": "https://localhost:8080/"
    },
    "outputId": "ac3bac69-8730-4bf3-ba14-74e49c9db46b",
    "ExecuteTime": {
     "end_time": "2025-05-08T10:21:29.220853Z",
     "start_time": "2025-05-08T10:19:19.489484Z"
    }
   },
   "outputs": [
    {
     "name": "stderr",
     "output_type": "stream",
     "text": [
      "100%|██████████| 5000/5000 [02:08<00:00, 38.97it/s] \n"
     ]
    }
   ],
   "source": [
    "from collections import defaultdict\n",
    "\n",
    "lengths = set(len(preds) for preds in results.values())\n",
    "candidates_by_len = {}\n",
    "pos_index = {}\n",
    "\n",
    "for L in lengths:\n",
    "    words = [w for w in dictionary if len(w)==L]\n",
    "    candidates_by_len[L] = words\n",
    "\n",
    "    # positional index\n",
    "    idx_L = [defaultdict(set) for _ in range(L)]\n",
    "    for w in words:\n",
    "        for i,c in enumerate(w):\n",
    "            idx_L[i][c].add(w)\n",
    "    pos_index[L] = idx_L\n",
    "\n",
    "def best_word_fast_with_fallback(letter_preds, threshold=1e-8):\n",
    "    L = len(letter_preds)\n",
    "    idx = pos_index[L]\n",
    "\n",
    "    # 1) Prune by intersection of top‑3 sets\n",
    "    pruned = None\n",
    "    for i, top3 in enumerate(letter_preds):\n",
    "        # union of words that match any top‑3 char at position i\n",
    "        union = set()\n",
    "        for c,_ in top3:\n",
    "            union |= idx[i].get(c, set())   # << use set() not ()\n",
    "        pruned = union if pruned is None else pruned & union\n",
    "        if not pruned:\n",
    "            break\n",
    "\n",
    "    # helper to score a word, penalizing missing letters by ε\n",
    "    def score_word(w, epsilon=1e-6):\n",
    "        score = 1.0\n",
    "        for i,ch in enumerate(w):\n",
    "            for c,p in letter_preds[i]:\n",
    "                if c == ch:\n",
    "                    score *= p\n",
    "                    break\n",
    "            else:\n",
    "                score *= epsilon\n",
    "        return score\n",
    "\n",
    "    # 2) If we have exact matches, pick the best\n",
    "    if pruned:\n",
    "        best = max(pruned, key=score_word)\n",
    "        if score_word(best) >= threshold:\n",
    "            return best, score_word(best)\n",
    "\n",
    "    # 3) Fallback: words off by exactly one letter\n",
    "    near = []\n",
    "    for w in candidates_by_len[L]:\n",
    "        misses = 0\n",
    "        for i,ch in enumerate(w):\n",
    "            if all(c != ch for c,_ in letter_preds[i]):\n",
    "                misses += 1\n",
    "                if misses > 1:\n",
    "                    break\n",
    "        if misses == 1:\n",
    "            near.append(w)\n",
    "    if near:\n",
    "        best = max(near, key=score_word)\n",
    "        if score_word(best) >= threshold:\n",
    "            return best, score_word(best)\n",
    "\n",
    "    guess = ''.join(p[0][0] for p in letter_preds)\n",
    "\n",
    "    # find minimal Hamming distance\n",
    "    min_dist = L+1\n",
    "    closest = []\n",
    "    cands = candidates_by_len[L]\n",
    "    for w in cands:\n",
    "        dist = sum(ch1!=ch2 for ch1,ch2 in zip(w, guess))\n",
    "        if dist < min_dist:\n",
    "            min_dist = dist\n",
    "            closest = [w]\n",
    "        elif dist == min_dist:\n",
    "            closest.append(w)\n",
    "\n",
    "    # pick best‑scoring among the closest\n",
    "    best, best_score = None, 0.0\n",
    "    for w in closest:\n",
    "        sc = score_word(w)\n",
    "        if sc>best_score:\n",
    "            best, best_score = w, sc\n",
    "\n",
    "    return best, best_score\n",
    "\n",
    "# Run on your results\n",
    "final_preds = {}\n",
    "for fname, preds in tqdm(results.items()):\n",
    "    word, score = best_word_fast_with_fallback(preds)\n",
    "    final_preds[fname] = (word, score)\n"
   ]
  },
  {
   "cell_type": "code",
   "source": [
    "file_path = \"dist/dataset/testcases.csv\"\n",
    "import pandas as pd\n",
    "df = pd.read_csv(file_path)\n",
    "\n",
    "\n",
    "# Update the 'word' column for rows after the first 100\n",
    "for idx in df.index[100:]:\n",
    "    fname = df.at[idx, 'compressed_file']  # adjust if your filename column has a different name\n",
    "    # Look up the predicted word (first element of the tuple)\n",
    "    if fname in final_preds:\n",
    "        df.at[idx, 'word'] = final_preds[fname][0]\n",
    "    else:\n",
    "        df.at[idx, 'word'] = ''\n",
    "\n",
    "# Save back to CSV (overwrites the original file)\n",
    "df.to_csv('out.csv', index=False)"
   ],
   "metadata": {
    "collapsed": true,
    "id": "GAUB6WGu3OzG",
    "ExecuteTime": {
     "end_time": "2025-05-08T10:21:50.809880Z",
     "start_time": "2025-05-08T10:21:50.715298Z"
    }
   },
   "id": "GAUB6WGu3OzG",
   "execution_count": 35,
   "outputs": []
  }
 ],
 "metadata": {
  "accelerator": "GPU",
  "colab": {
   "gpuType": "T4",
   "provenance": []
  },
  "kernelspec": {
   "name": "python3",
   "language": "python",
   "display_name": "Python 3 (ipykernel)"
  },
  "language_info": {
   "codemirror_mode": {
    "name": "ipython",
    "version": 3
   },
   "file_extension": ".py",
   "mimetype": "text/x-python",
   "name": "python",
   "nbconvert_exporter": "python",
   "pygments_lexer": "ipython3",
   "version": "3.11.10"
  }
 },
 "nbformat": 4,
 "nbformat_minor": 5
}
